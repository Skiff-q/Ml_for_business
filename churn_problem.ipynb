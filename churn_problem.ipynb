{
 "cells": [
  {
   "cell_type": "code",
   "execution_count": 1,
   "metadata": {
    "collapsed": true,
    "pycharm": {
     "name": "#%%\n"
    }
   },
   "outputs": [],
   "source": [
    "import pandas as pd\n",
    "import numpy as np\n",
    "from sklearn.pipeline import Pipeline, make_pipeline\n",
    "from sklearn.base import BaseEstimator, TransformerMixin\n",
    "from sklearn.linear_model import LogisticRegression\n",
    "from sklearn.model_selection import train_test_split\n",
    "#from sklearn.feature_extraction.text import TfidfVectorizer\n",
    "import itertools\n",
    "\n",
    "import matplotlib.pyplot as plt\n",
    "\n",
    "%matplotlib inline"
   ]
  },
  {
   "cell_type": "code",
   "execution_count": 2,
   "outputs": [
    {
     "data": {
      "text/plain": "   RowNumber  CustomerId   Surname  CreditScore Geography  Gender  Age  \\\n0          1    15634602  Hargrave          619    France  Female   42   \n1          2    15647311      Hill          608     Spain  Female   41   \n2          3    15619304      Onio          502    France  Female   42   \n\n   Tenure    Balance  NumOfProducts  HasCrCard  IsActiveMember  \\\n0       2       0.00              1          1               1   \n1       1   83807.86              1          0               1   \n2       8  159660.80              3          1               0   \n\n   EstimatedSalary  Exited  \n0        101348.88       1  \n1        112542.58       0  \n2        113931.57       1  ",
      "text/html": "<div>\n<style scoped>\n    .dataframe tbody tr th:only-of-type {\n        vertical-align: middle;\n    }\n\n    .dataframe tbody tr th {\n        vertical-align: top;\n    }\n\n    .dataframe thead th {\n        text-align: right;\n    }\n</style>\n<table border=\"1\" class=\"dataframe\">\n  <thead>\n    <tr style=\"text-align: right;\">\n      <th></th>\n      <th>RowNumber</th>\n      <th>CustomerId</th>\n      <th>Surname</th>\n      <th>CreditScore</th>\n      <th>Geography</th>\n      <th>Gender</th>\n      <th>Age</th>\n      <th>Tenure</th>\n      <th>Balance</th>\n      <th>NumOfProducts</th>\n      <th>HasCrCard</th>\n      <th>IsActiveMember</th>\n      <th>EstimatedSalary</th>\n      <th>Exited</th>\n    </tr>\n  </thead>\n  <tbody>\n    <tr>\n      <th>0</th>\n      <td>1</td>\n      <td>15634602</td>\n      <td>Hargrave</td>\n      <td>619</td>\n      <td>France</td>\n      <td>Female</td>\n      <td>42</td>\n      <td>2</td>\n      <td>0.00</td>\n      <td>1</td>\n      <td>1</td>\n      <td>1</td>\n      <td>101348.88</td>\n      <td>1</td>\n    </tr>\n    <tr>\n      <th>1</th>\n      <td>2</td>\n      <td>15647311</td>\n      <td>Hill</td>\n      <td>608</td>\n      <td>Spain</td>\n      <td>Female</td>\n      <td>41</td>\n      <td>1</td>\n      <td>83807.86</td>\n      <td>1</td>\n      <td>0</td>\n      <td>1</td>\n      <td>112542.58</td>\n      <td>0</td>\n    </tr>\n    <tr>\n      <th>2</th>\n      <td>3</td>\n      <td>15619304</td>\n      <td>Onio</td>\n      <td>502</td>\n      <td>France</td>\n      <td>Female</td>\n      <td>42</td>\n      <td>8</td>\n      <td>159660.80</td>\n      <td>3</td>\n      <td>1</td>\n      <td>0</td>\n      <td>113931.57</td>\n      <td>1</td>\n    </tr>\n  </tbody>\n</table>\n</div>"
     },
     "execution_count": 2,
     "metadata": {},
     "output_type": "execute_result"
    }
   ],
   "source": [
    "df = pd.read_csv(\"data/churn_data.csv\")\n",
    "df.head(3)"
   ],
   "metadata": {
    "collapsed": false,
    "pycharm": {
     "name": "#%%\n"
    }
   }
  },
  {
   "cell_type": "markdown",
   "source": [
    "Посмотрим на распределение классов"
   ],
   "metadata": {
    "collapsed": false,
    "pycharm": {
     "name": "#%% md\n"
    }
   }
  },
  {
   "cell_type": "code",
   "execution_count": 3,
   "outputs": [
    {
     "data": {
      "text/plain": "0    7963\n1    2037\nName: Exited, dtype: int64"
     },
     "execution_count": 3,
     "metadata": {},
     "output_type": "execute_result"
    }
   ],
   "source": [
    "df['Exited'].value_counts()"
   ],
   "metadata": {
    "collapsed": false,
    "pycharm": {
     "name": "#%%\n"
    }
   }
  },
  {
   "cell_type": "markdown",
   "source": [
    "Не самое плохое распредление (1 к 4)"
   ],
   "metadata": {
    "collapsed": false,
    "pycharm": {
     "name": "#%% md\n"
    }
   }
  },
  {
   "cell_type": "markdown",
   "source": [
    "Построим модель. Сразу же будем работать с использованием sklearn pipeline"
   ],
   "metadata": {
    "collapsed": false,
    "pycharm": {
     "name": "#%% md\n"
    }
   }
  },
  {
   "cell_type": "code",
   "execution_count": 4,
   "outputs": [],
   "source": [
    "#разделим данные на train/test\n",
    "X_train, X_test, y_train, y_test = train_test_split(df, df['Exited'], random_state=0)"
   ],
   "metadata": {
    "collapsed": false,
    "pycharm": {
     "name": "#%%\n"
    }
   }
  },
  {
   "cell_type": "markdown",
   "source": [
    "-Категориальные признаки закодируем с помощью OneHotEncoding\n",
    "-Вещественные оставим пока как есть"
   ],
   "metadata": {
    "collapsed": false,
    "pycharm": {
     "name": "#%% md\n"
    }
   }
  },
  {
   "cell_type": "code",
   "execution_count": 5,
   "outputs": [],
   "source": [
    "#соберем наш простой pipeline, но нам понадобится написать класс для выбора нужного поля\n",
    "class FeatureSelector(BaseEstimator, TransformerMixin):\n",
    "    def __init__(self, column):\n",
    "        self.column = column\n",
    "\n",
    "    def fit(self, X, y=None):\n",
    "        return self\n",
    "\n",
    "    def transform(self, X, y=None):\n",
    "        return X[self.column]\n",
    "\n",
    "class NumberSelector(BaseEstimator, TransformerMixin):\n",
    "    \"\"\"\n",
    "    Transformer to select a single column from the data frame to perform additional transformations on\n",
    "    Use on numeric columns in the data\n",
    "    \"\"\"\n",
    "    def __init__(self, key):\n",
    "        self.key = key\n",
    "\n",
    "    def fit(self, X, y=None):\n",
    "        return self\n",
    "\n",
    "    def transform(self, X):\n",
    "        return X[[self.key]]\n",
    "\n",
    "class OHEEncoder(BaseEstimator, TransformerMixin):\n",
    "    def __init__(self, key):\n",
    "        self.key = key\n",
    "        self.columns = []\n",
    "\n",
    "    def fit(self, X, y=None):\n",
    "        self.columns = [col for col in pd.get_dummies(X, prefix=self.key).columns]\n",
    "        return self\n",
    "\n",
    "    def transform(self, X):\n",
    "        X = pd.get_dummies(X, prefix=self.key)\n",
    "        test_columns = [col for col in X.columns]\n",
    "        for col_ in self.columns:\n",
    "            if col_ not in test_columns:\n",
    "                X[col_] = 0\n",
    "        return X[self.columns]"
   ],
   "metadata": {
    "collapsed": false,
    "pycharm": {
     "name": "#%%\n"
    }
   }
  },
  {
   "cell_type": "code",
   "execution_count": 6,
   "outputs": [
    {
     "data": {
      "text/plain": "   RowNumber  CustomerId   Surname  CreditScore Geography  Gender  Age  \\\n0          1    15634602  Hargrave          619    France  Female   42   \n1          2    15647311      Hill          608     Spain  Female   41   \n2          3    15619304      Onio          502    France  Female   42   \n\n   Tenure    Balance  NumOfProducts  HasCrCard  IsActiveMember  \\\n0       2       0.00              1          1               1   \n1       1   83807.86              1          0               1   \n2       8  159660.80              3          1               0   \n\n   EstimatedSalary  Exited  \n0        101348.88       1  \n1        112542.58       0  \n2        113931.57       1  ",
      "text/html": "<div>\n<style scoped>\n    .dataframe tbody tr th:only-of-type {\n        vertical-align: middle;\n    }\n\n    .dataframe tbody tr th {\n        vertical-align: top;\n    }\n\n    .dataframe thead th {\n        text-align: right;\n    }\n</style>\n<table border=\"1\" class=\"dataframe\">\n  <thead>\n    <tr style=\"text-align: right;\">\n      <th></th>\n      <th>RowNumber</th>\n      <th>CustomerId</th>\n      <th>Surname</th>\n      <th>CreditScore</th>\n      <th>Geography</th>\n      <th>Gender</th>\n      <th>Age</th>\n      <th>Tenure</th>\n      <th>Balance</th>\n      <th>NumOfProducts</th>\n      <th>HasCrCard</th>\n      <th>IsActiveMember</th>\n      <th>EstimatedSalary</th>\n      <th>Exited</th>\n    </tr>\n  </thead>\n  <tbody>\n    <tr>\n      <th>0</th>\n      <td>1</td>\n      <td>15634602</td>\n      <td>Hargrave</td>\n      <td>619</td>\n      <td>France</td>\n      <td>Female</td>\n      <td>42</td>\n      <td>2</td>\n      <td>0.00</td>\n      <td>1</td>\n      <td>1</td>\n      <td>1</td>\n      <td>101348.88</td>\n      <td>1</td>\n    </tr>\n    <tr>\n      <th>1</th>\n      <td>2</td>\n      <td>15647311</td>\n      <td>Hill</td>\n      <td>608</td>\n      <td>Spain</td>\n      <td>Female</td>\n      <td>41</td>\n      <td>1</td>\n      <td>83807.86</td>\n      <td>1</td>\n      <td>0</td>\n      <td>1</td>\n      <td>112542.58</td>\n      <td>0</td>\n    </tr>\n    <tr>\n      <th>2</th>\n      <td>3</td>\n      <td>15619304</td>\n      <td>Onio</td>\n      <td>502</td>\n      <td>France</td>\n      <td>Female</td>\n      <td>42</td>\n      <td>8</td>\n      <td>159660.80</td>\n      <td>3</td>\n      <td>1</td>\n      <td>0</td>\n      <td>113931.57</td>\n      <td>1</td>\n    </tr>\n  </tbody>\n</table>\n</div>"
     },
     "execution_count": 6,
     "metadata": {},
     "output_type": "execute_result"
    }
   ],
   "source": [
    "df.head(3)"
   ],
   "metadata": {
    "collapsed": false,
    "pycharm": {
     "name": "#%%\n"
    }
   }
  },
  {
   "cell_type": "markdown",
   "source": [
    "Зададим списки признаков"
   ],
   "metadata": {
    "collapsed": false,
    "pycharm": {
     "name": "#%% md\n"
    }
   }
  },
  {
   "cell_type": "code",
   "execution_count": 7,
   "outputs": [],
   "source": [
    "categorical_columns = ['Geography', 'Gender', 'Tenure', 'HasCrCard', 'IsActiveMember']\n",
    "continuous_columns = ['CreditScore', 'Age', 'Balance', 'NumOfProducts', 'EstimatedSalary']"
   ],
   "metadata": {
    "collapsed": false,
    "pycharm": {
     "name": "#%%\n"
    }
   }
  },
  {
   "cell_type": "code",
   "execution_count": 8,
   "outputs": [
    {
     "data": {
      "text/plain": "      Gender_Female  Gender_Male\n9394              1            0\n898               1            0\n2398              1            0",
      "text/html": "<div>\n<style scoped>\n    .dataframe tbody tr th:only-of-type {\n        vertical-align: middle;\n    }\n\n    .dataframe tbody tr th {\n        vertical-align: top;\n    }\n\n    .dataframe thead th {\n        text-align: right;\n    }\n</style>\n<table border=\"1\" class=\"dataframe\">\n  <thead>\n    <tr style=\"text-align: right;\">\n      <th></th>\n      <th>Gender_Female</th>\n      <th>Gender_Male</th>\n    </tr>\n  </thead>\n  <tbody>\n    <tr>\n      <th>9394</th>\n      <td>1</td>\n      <td>0</td>\n    </tr>\n    <tr>\n      <th>898</th>\n      <td>1</td>\n      <td>0</td>\n    </tr>\n    <tr>\n      <th>2398</th>\n      <td>1</td>\n      <td>0</td>\n    </tr>\n  </tbody>\n</table>\n</div>"
     },
     "execution_count": 8,
     "metadata": {},
     "output_type": "execute_result"
    }
   ],
   "source": [
    "from sklearn.pipeline import Pipeline\n",
    "from sklearn.pipeline import FeatureUnion\n",
    "\n",
    "gender = Pipeline([\n",
    "                ('selector', FeatureSelector(column='Gender')),\n",
    "                ('ohe', OHEEncoder(key='Gender'))\n",
    "            ])\n",
    "gender.fit(X_train)\n",
    "gender.transform(X_test).head(3)"
   ],
   "metadata": {
    "collapsed": false,
    "pycharm": {
     "name": "#%%\n"
    }
   }
  },
  {
   "cell_type": "markdown",
   "source": [
    "Теперь нам нужно под каждый признак создать трансформер и объединить их в список (сделаем это в цикле, чтобы не мучиться)"
   ],
   "metadata": {
    "collapsed": false,
    "pycharm": {
     "name": "#%% md\n"
    }
   }
  },
  {
   "cell_type": "code",
   "execution_count": 9,
   "outputs": [],
   "source": [
    "final_transformers = list()\n",
    "\n",
    "for cat_col in categorical_columns:\n",
    "    cat_transformer = Pipeline([\n",
    "                ('selector', FeatureSelector(column=cat_col)),\n",
    "                ('ohe', OHEEncoder(key=cat_col))\n",
    "            ])\n",
    "    final_transformers.append((cat_col, cat_transformer))\n",
    "\n",
    "for cont_col in continuous_columns:\n",
    "    cont_transformer = Pipeline([\n",
    "                ('selector', NumberSelector(key=cont_col))\n",
    "            ])\n",
    "    final_transformers.append((cont_col, cont_transformer))"
   ],
   "metadata": {
    "collapsed": false,
    "pycharm": {
     "name": "#%%\n"
    }
   }
  },
  {
   "cell_type": "markdown",
   "source": [
    "Объединим все это в единый пайплайн"
   ],
   "metadata": {
    "collapsed": false,
    "pycharm": {
     "name": "#%% md\n"
    }
   }
  },
  {
   "cell_type": "code",
   "execution_count": 10,
   "outputs": [],
   "source": [
    "feats = FeatureUnion(final_transformers)\n",
    "\n",
    "feature_processing = Pipeline([('feats', feats)])"
   ],
   "metadata": {
    "collapsed": false,
    "pycharm": {
     "name": "#%%\n"
    }
   }
  },
  {
   "cell_type": "markdown",
   "source": [
    "Теперь у нас есть пайплайн, котрый готовит признаки для моделирования\n",
    "\n",
    "Добавим модель"
   ],
   "metadata": {
    "collapsed": false,
    "pycharm": {
     "name": "#%% md\n"
    }
   }
  },
  {
   "cell_type": "code",
   "execution_count": 11,
   "outputs": [],
   "source": [
    "from sklearn.ensemble import RandomForestClassifier\n",
    "\n",
    "pipeline = Pipeline([\n",
    "    ('features',feats),\n",
    "    ('classifier', RandomForestClassifier(random_state = 42)),\n",
    "])"
   ],
   "metadata": {
    "collapsed": false,
    "pycharm": {
     "name": "#%%\n"
    }
   }
  },
  {
   "cell_type": "markdown",
   "source": [
    "Обучим модель"
   ],
   "metadata": {
    "collapsed": false,
    "pycharm": {
     "name": "#%% md\n"
    }
   }
  },
  {
   "cell_type": "code",
   "execution_count": 12,
   "outputs": [
    {
     "data": {
      "text/plain": "Pipeline(steps=[('features',\n                 FeatureUnion(transformer_list=[('Geography',\n                                                 Pipeline(steps=[('selector',\n                                                                  FeatureSelector(column='Geography')),\n                                                                 ('ohe',\n                                                                  OHEEncoder(key='Geography'))])),\n                                                ('Gender',\n                                                 Pipeline(steps=[('selector',\n                                                                  FeatureSelector(column='Gender')),\n                                                                 ('ohe',\n                                                                  OHEEncoder(key='Gender'))])),\n                                                ('Tenure',\n                                                 Pipeline(steps=[('selector',\n                                                                  FeatureSelector(column='Tenu...\n                                                 Pipeline(steps=[('selector',\n                                                                  NumberSelector(key='Age'))])),\n                                                ('Balance',\n                                                 Pipeline(steps=[('selector',\n                                                                  NumberSelector(key='Balance'))])),\n                                                ('NumOfProducts',\n                                                 Pipeline(steps=[('selector',\n                                                                  NumberSelector(key='NumOfProducts'))])),\n                                                ('EstimatedSalary',\n                                                 Pipeline(steps=[('selector',\n                                                                  NumberSelector(key='EstimatedSalary'))]))])),\n                ('classifier', RandomForestClassifier(random_state=42))])"
     },
     "execution_count": 12,
     "metadata": {},
     "output_type": "execute_result"
    }
   ],
   "source": [
    "#обучим наш пайплайн\n",
    "pipeline.fit(X_train, y_train)"
   ],
   "metadata": {
    "collapsed": false,
    "pycharm": {
     "name": "#%%\n"
    }
   }
  },
  {
   "cell_type": "code",
   "execution_count": 13,
   "outputs": [
    {
     "data": {
      "text/plain": "array([0.37, 0.26, 0.16, 0.02, 0.02, 0.67, 0.04, 0.12, 0.15, 0.75])"
     },
     "execution_count": 13,
     "metadata": {},
     "output_type": "execute_result"
    }
   ],
   "source": [
    "#наши прогнозы для тестовой выборки\n",
    "preds = pipeline.predict_proba(X_test)[:, 1]\n",
    "preds[:10]"
   ],
   "metadata": {
    "collapsed": false,
    "pycharm": {
     "name": "#%%\n"
    }
   }
  },
  {
   "cell_type": "markdown",
   "source": [
    "Также нам нужно от вероятностей перейти к меткам классов. Для этого нужно подобрать порог, после которого мы считаем, что объект можно отнести к классу 1 (если вероятность больше порога - размечаем объект как класс 1, если нет - класс 0)"
   ],
   "metadata": {
    "collapsed": false,
    "pycharm": {
     "name": "#%% md\n"
    }
   }
  },
  {
   "cell_type": "code",
   "execution_count": 14,
   "outputs": [],
   "source": [
    "from sklearn.metrics import f1_score, roc_auc_score, precision_score, classification_report, precision_recall_curve, confusion_matrix"
   ],
   "metadata": {
    "collapsed": false,
    "pycharm": {
     "name": "#%%\n"
    }
   }
  },
  {
   "cell_type": "code",
   "execution_count": 15,
   "outputs": [
    {
     "name": "stdout",
     "output_type": "stream",
     "text": [
      "Best Threshold=0.380000, F-Score=0.641, Precision=0.653, Recall=0.629\n"
     ]
    }
   ],
   "source": [
    "precision, recall, thresholds = precision_recall_curve(y_test, preds)\n",
    "\n",
    "fscore = (2 * precision * recall) / (precision + recall)\n",
    "# locate the index of the largest f score\n",
    "ix = np.argmax(fscore)\n",
    "print('Best Threshold=%f, F-Score=%.3f, Precision=%.3f, Recall=%.3f' % (thresholds[ix],\n",
    "                                                                        fscore[ix],\n",
    "                                                                        precision[ix],\n",
    "                                                                        recall[ix]))"
   ],
   "metadata": {
    "collapsed": false,
    "pycharm": {
     "name": "#%%\n"
    }
   }
  },
  {
   "cell_type": "markdown",
   "source": [
    "Отрисуем матрицу ошибок"
   ],
   "metadata": {
    "collapsed": false,
    "pycharm": {
     "name": "#%% md\n"
    }
   }
  },
  {
   "cell_type": "code",
   "execution_count": 16,
   "outputs": [],
   "source": [
    "def plot_confusion_matrix(cm, classes,\n",
    "                          normalize=False,\n",
    "                          title='Confusion matrix',\n",
    "                          cmap=plt.cm.Blues):\n",
    "\n",
    "    plt.imshow(cm, interpolation='nearest', cmap=cmap)\n",
    "    plt.title(title)\n",
    "    plt.colorbar()\n",
    "    tick_marks = np.arange(len(classes))\n",
    "    plt.xticks(tick_marks, classes, rotation=45)\n",
    "    plt.yticks(tick_marks, classes)\n",
    "\n",
    "    if normalize:\n",
    "        cm = cm.astype('float') / cm.sum(axis=1)[:, np.newaxis]\n",
    "        print('Normalized confusion matrix')\n",
    "    else:\n",
    "        print('Confusion matrix, without normalization')\n",
    "\n",
    "    print(cm)\n",
    "\n",
    "    thresh = cm.max() / 2.\n",
    "    for i, j in itertools.product(range(cm.shape[0]), range(cm.shape[1])):\n",
    "        plt.text(j, i, cm[i, j],\n",
    "                 horizontalalignment='center',\n",
    "                 color='white' if cm[i, j] > thresh else 'black')\n",
    "\n",
    "    plt.tight_layout()\n",
    "    plt.ylabel('True label')\n",
    "    plt.xlabel('Predicted Label')"
   ],
   "metadata": {
    "collapsed": false,
    "pycharm": {
     "name": "#%%\n"
    }
   }
  },
  {
   "cell_type": "code",
   "execution_count": 17,
   "outputs": [
    {
     "name": "stdout",
     "output_type": "stream",
     "text": [
      "Confusion matrix, without normalization\n",
      "[[1832  159]\n",
      " [ 195  314]]\n"
     ]
    },
    {
     "data": {
      "text/plain": "<Figure size 1000x800 with 2 Axes>",
      "image/png": "[encoded data removed]"
     },
     "metadata": {},
     "output_type": "display_data"
    }
   ],
   "source": [
    "# мы уже нашли ранее оптимальный порог, когда максимизировали f_score\n",
    "font = {'size': 15}\n",
    "\n",
    "plt.rc('font', **font)\n",
    "\n",
    "cnf_matrix = confusion_matrix(y_test, preds>thresholds[ix])\n",
    "plt.figure(figsize=(10, 8))\n",
    "plot_confusion_matrix(cnf_matrix, classes=['NonChurn', 'Churn'],\n",
    "                      title='Confusion matrix')\n",
    "plt.savefig('conf_matrix.png')\n",
    "plt.show()"
   ],
   "metadata": {
    "collapsed": false,
    "pycharm": {
     "name": "#%%\n"
    }
   }
  },
  {
   "cell_type": "markdown",
   "source": [
    "Можно заметить, что мы очень сильно ошибаемся в сторону False Negatives, т.е у нас много тех, кто ушел в отток на самом деле, но при выбранном нами пороге в 0.38 мы не считаем их таковыми."
   ],
   "metadata": {
    "collapsed": false,
    "pycharm": {
     "name": "#%% md\n"
    }
   }
  },
  {
   "cell_type": "markdown",
   "source": [
    "сетка с параметрами"
   ],
   "metadata": {
    "collapsed": false,
    "pycharm": {
     "name": "#%% md\n"
    }
   }
  },
  {
   "cell_type": "code",
   "execution_count": 18,
   "outputs": [],
   "source": [
    "from sklearn.model_selection import GridSearchCV\n",
    "\n",
    "params = {'classifier__max_features':[0.3, 0.5, 0.7],\n",
    "          'classifier__min_samples_leaf':[1, 2, 3],\n",
    "          'classifier__max_depth':[None]\n",
    "}"
   ],
   "metadata": {
    "collapsed": false,
    "pycharm": {
     "name": "#%%\n"
    }
   }
  },
  {
   "cell_type": "markdown",
   "source": [
    "Запускаем перебор"
   ],
   "metadata": {
    "collapsed": false,
    "pycharm": {
     "name": "#%% md\n"
    }
   }
  },
  {
   "cell_type": "code",
   "execution_count": 19,
   "outputs": [
    {
     "data": {
      "text/plain": "{'classifier__max_depth': None,\n 'classifier__max_features': 0.5,\n 'classifier__min_samples_leaf': 3}"
     },
     "execution_count": 19,
     "metadata": {},
     "output_type": "execute_result"
    }
   ],
   "source": [
    "grid = GridSearchCV(pipeline,\n",
    "                    param_grid=params,\n",
    "                    cv=6,\n",
    "                    refit=False)\n",
    "\n",
    "search = grid.fit(X_train, y_train)\n",
    "search.best_params_"
   ],
   "metadata": {
    "collapsed": false,
    "pycharm": {
     "name": "#%%\n"
    }
   }
  },
  {
   "cell_type": "markdown",
   "source": [
    "Обучаем модель уже основными параметрами"
   ],
   "metadata": {
    "collapsed": false,
    "pycharm": {
     "name": "#%% md\n"
    }
   }
  },
  {
   "cell_type": "code",
   "execution_count": 20,
   "outputs": [
    {
     "data": {
      "text/plain": "Pipeline(steps=[('features',\n                 FeatureUnion(transformer_list=[('Geography',\n                                                 Pipeline(steps=[('selector',\n                                                                  FeatureSelector(column='Geography')),\n                                                                 ('ohe',\n                                                                  OHEEncoder(key='Geography'))])),\n                                                ('Gender',\n                                                 Pipeline(steps=[('selector',\n                                                                  FeatureSelector(column='Gender')),\n                                                                 ('ohe',\n                                                                  OHEEncoder(key='Gender'))])),\n                                                ('Tenure',\n                                                 Pipeline(steps=[('selector',\n                                                                  FeatureSelector(column='Tenu...\n                                                                  NumberSelector(key='Age'))])),\n                                                ('Balance',\n                                                 Pipeline(steps=[('selector',\n                                                                  NumberSelector(key='Balance'))])),\n                                                ('NumOfProducts',\n                                                 Pipeline(steps=[('selector',\n                                                                  NumberSelector(key='NumOfProducts'))])),\n                                                ('EstimatedSalary',\n                                                 Pipeline(steps=[('selector',\n                                                                  NumberSelector(key='EstimatedSalary'))]))])),\n                ('classifier',\n                 RandomForestClassifier(max_features=0.5, min_samples_leaf=3,\n                                        random_state=42))])"
     },
     "execution_count": 20,
     "metadata": {},
     "output_type": "execute_result"
    }
   ],
   "source": [
    "pipeline = Pipeline([\n",
    "    ('features', feats),\n",
    "    ('classifier', RandomForestClassifier(max_depth=None, max_features=0.5, min_samples_leaf=3, random_state=42))\n",
    "])\n",
    "pipeline.fit(X_train, y_train)"
   ],
   "metadata": {
    "collapsed": false,
    "pycharm": {
     "name": "#%%\n"
    }
   }
  },
  {
   "cell_type": "code",
   "execution_count": 21,
   "outputs": [
    {
     "name": "stdout",
     "output_type": "stream",
     "text": [
      "Best Threshold=0.389431, F-Score=0.653, Precision=0.661, Recall=0.646\n",
      "Confusion matrix, without normalization\n",
      "[[1822  169]\n",
      " [ 181  328]]\n"
     ]
    },
    {
     "data": {
      "text/plain": "<Figure size 1000x800 with 2 Axes>",
      "image/png": "[encoded data removed]"
     },
     "metadata": {},
     "output_type": "display_data"
    }
   ],
   "source": [
    "preds = pipeline.predict_proba(X_test)[:, 1]\n",
    "precision, recall, thresholds = precision_recall_curve(y_test, preds)\n",
    "fscore = (2 * precision * recall) / (precision + recall)\n",
    "ix = np.argmax(fscore)\n",
    "print('Best Threshold=%f, F-Score=%.3f, Precision=%.3f, Recall=%.3f' % (thresholds[ix],\n",
    "                                                                        fscore[ix],\n",
    "                                                                        precision[ix],\n",
    "                                                                        recall[ix]))\n",
    "\n",
    "font = {'size' : 15}\n",
    "\n",
    "plt.rc('font', **font)\n",
    "\n",
    "cnf_matrix = confusion_matrix(y_test, preds > thresholds[ix])\n",
    "plt.figure(figsize=(10, 8))\n",
    "plot_confusion_matrix(cnf_matrix, classes=['NonChurn', 'Churn'],\n",
    "                      title='Confusion matrix')\n",
    "plt.savefig('conf_matrix.png')\n",
    "plt.show()"
   ],
   "metadata": {
    "collapsed": false,
    "pycharm": {
     "name": "#%%\n"
    }
   }
  },
  {
   "cell_type": "markdown",
   "source": [
    "Метрики стали немного выше"
   ],
   "metadata": {
    "collapsed": false,
    "pycharm": {
     "name": "#%% md\n"
    }
   }
  },
  {
   "cell_type": "markdown",
   "source": [
    "Попробуем обучить модель бустинга"
   ],
   "metadata": {
    "collapsed": false,
    "pycharm": {
     "name": "#%% md\n"
    }
   }
  },
  {
   "cell_type": "code",
   "execution_count": 22,
   "outputs": [],
   "source": [
    "from catboost import CatBoostClassifier"
   ],
   "metadata": {
    "collapsed": false,
    "pycharm": {
     "name": "#%%\n"
    }
   }
  },
  {
   "cell_type": "code",
   "execution_count": 23,
   "outputs": [],
   "source": [
    "#разделим данные на train/test\n",
    "X_train, X_test, y_train, y_test = train_test_split(df, df['Exited'], random_state=0)"
   ],
   "metadata": {
    "collapsed": false,
    "pycharm": {
     "name": "#%%\n"
    }
   }
  },
  {
   "cell_type": "code",
   "execution_count": 24,
   "outputs": [],
   "source": [
    "X_train = X_train.drop(columns='Exited', axis=1)\n",
    "X_test = X_test.drop(columns='Exited', axis=1)"
   ],
   "metadata": {
    "collapsed": false,
    "pycharm": {
     "name": "#%%\n"
    }
   }
  },
  {
   "cell_type": "code",
   "execution_count": 25,
   "outputs": [],
   "source": [
    "#соберем наш простой pipeline, но нам понадобится написать класс для выбора нужного поля\n",
    "class FeatureSelector(BaseEstimator, TransformerMixin):\n",
    "    def __init__(self, column):\n",
    "        self.column = column\n",
    "\n",
    "    def fit(self, X, y=None):\n",
    "        return self\n",
    "\n",
    "    def transform(self, X, y=None):\n",
    "        return X[self.column]\n",
    "\n",
    "class NumberSelector(BaseEstimator, TransformerMixin):\n",
    "    \"\"\"\n",
    "    Transformer to select a single column from the data frame to perform additional transformations on\n",
    "    Use on numeric columns in the data\n",
    "    \"\"\"\n",
    "    def __init__(self, key):\n",
    "        self.key = key\n",
    "\n",
    "    def fit(self, X, y=None):\n",
    "        return self\n",
    "\n",
    "    def transform(self, X):\n",
    "        return X[[self.key]]\n",
    "\n",
    "class OHEEncoder(BaseEstimator, TransformerMixin):\n",
    "    def __init__(self, key):\n",
    "        self.key = key\n",
    "        self.columns = []\n",
    "\n",
    "    def fit(self, X, y=None):\n",
    "        self.columns = [col for col in pd.get_dummies(X, prefix=self.key).columns]\n",
    "        return self\n",
    "\n",
    "    def transform(self, X):\n",
    "        X = pd.get_dummies(X, prefix=self.key)\n",
    "        test_columns = [col for col in X.columns]\n",
    "        for col_ in self.columns:\n",
    "            if col_ not in test_columns:\n",
    "                X[col_] = 0\n",
    "        return X[self.columns]"
   ],
   "metadata": {
    "collapsed": false,
    "pycharm": {
     "name": "#%%\n"
    }
   }
  },
  {
   "cell_type": "code",
   "execution_count": 26,
   "outputs": [],
   "source": [
    "final_transformers = list()\n",
    "\n",
    "for cat_col in categorical_columns:\n",
    "    cat_transformer = Pipeline([\n",
    "                ('selector', FeatureSelector(column=cat_col)),\n",
    "                ('ohe', OHEEncoder(key=cat_col))\n",
    "            ])\n",
    "    final_transformers.append((cat_col, cat_transformer))\n",
    "\n",
    "for cont_col in continuous_columns:\n",
    "    cont_transformer = Pipeline([\n",
    "                ('selector', NumberSelector(key=cont_col))\n",
    "            ])\n",
    "    final_transformers.append((cont_col, cont_transformer))"
   ],
   "metadata": {
    "collapsed": false,
    "pycharm": {
     "name": "#%%\n"
    }
   }
  },
  {
   "cell_type": "code",
   "execution_count": 27,
   "outputs": [],
   "source": [
    "feats = FeatureUnion(final_transformers)\n",
    "\n",
    "feature_processing = Pipeline([('feats', feats)])"
   ],
   "metadata": {
    "collapsed": false,
    "pycharm": {
     "name": "#%%\n"
    }
   }
  },
  {
   "cell_type": "code",
   "execution_count": 38,
   "outputs": [],
   "source": [
    "pipeline = Pipeline([\n",
    "    ('features', feats),\n",
    "    ('classifier', CatBoostClassifier())\n",
    "])"
   ],
   "metadata": {
    "collapsed": false,
    "pycharm": {
     "name": "#%%\n"
    }
   }
  },
  {
   "cell_type": "code",
   "execution_count": 39,
   "outputs": [
    {
     "name": "stdout",
     "output_type": "stream",
     "text": [
      "Learning rate set to 0.024355\n",
      "0:\tlearn: 0.6741145\ttotal: 19.8ms\tremaining: 19.8s\n",
      "1:\tlearn: 0.6554216\ttotal: 24.7ms\tremaining: 12.3s\n",
      "2:\tlearn: 0.6382702\ttotal: 28.9ms\tremaining: 9.62s\n",
      "3:\tlearn: 0.6212604\ttotal: 32.7ms\tremaining: 8.14s\n",
      "4:\tlearn: 0.6065912\ttotal: 37.4ms\tremaining: 7.44s\n",
      "5:\tlearn: 0.5933846\ttotal: 41.6ms\tremaining: 6.89s\n",
      "6:\tlearn: 0.5791444\ttotal: 46.5ms\tremaining: 6.6s\n",
      "7:\tlearn: 0.5660221\ttotal: 51.2ms\tremaining: 6.35s\n",
      "8:\tlearn: 0.5535132\ttotal: 59.2ms\tremaining: 6.52s\n",
      "9:\tlearn: 0.5427843\ttotal: 63.4ms\tremaining: 6.28s\n",
      "10:\tlearn: 0.5319791\ttotal: 68.2ms\tremaining: 6.13s\n",
      "11:\tlearn: 0.5218638\ttotal: 72.2ms\tremaining: 5.94s\n",
      "12:\tlearn: 0.5115271\ttotal: 83ms\tremaining: 6.3s\n",
      "13:\tlearn: 0.5034314\ttotal: 87.3ms\tremaining: 6.15s\n",
      "14:\tlearn: 0.4954225\ttotal: 93.8ms\tremaining: 6.16s\n",
      "15:\tlearn: 0.4889300\ttotal: 98.4ms\tremaining: 6.05s\n",
      "16:\tlearn: 0.4810758\ttotal: 104ms\tremaining: 6.02s\n",
      "17:\tlearn: 0.4748516\ttotal: 111ms\tremaining: 6.03s\n",
      "18:\tlearn: 0.4689221\ttotal: 116ms\tremaining: 5.97s\n",
      "19:\tlearn: 0.4624470\ttotal: 119ms\tremaining: 5.85s\n",
      "20:\tlearn: 0.4568348\ttotal: 124ms\tremaining: 5.76s\n",
      "21:\tlearn: 0.4506475\ttotal: 130ms\tremaining: 5.77s\n",
      "22:\tlearn: 0.4458842\ttotal: 135ms\tremaining: 5.72s\n",
      "23:\tlearn: 0.4398997\ttotal: 139ms\tremaining: 5.67s\n",
      "24:\tlearn: 0.4361591\ttotal: 148ms\tremaining: 5.78s\n",
      "25:\tlearn: 0.4323707\ttotal: 153ms\tremaining: 5.73s\n",
      "26:\tlearn: 0.4283167\ttotal: 158ms\tremaining: 5.68s\n",
      "27:\tlearn: 0.4239620\ttotal: 162ms\tremaining: 5.62s\n",
      "28:\tlearn: 0.4199499\ttotal: 167ms\tremaining: 5.59s\n",
      "29:\tlearn: 0.4155842\ttotal: 172ms\tremaining: 5.55s\n",
      "30:\tlearn: 0.4114881\ttotal: 177ms\tremaining: 5.55s\n",
      "31:\tlearn: 0.4081772\ttotal: 185ms\tremaining: 5.59s\n",
      "32:\tlearn: 0.4057201\ttotal: 193ms\tremaining: 5.67s\n",
      "33:\tlearn: 0.4025322\ttotal: 200ms\tremaining: 5.67s\n",
      "34:\tlearn: 0.3992018\ttotal: 204ms\tremaining: 5.62s\n",
      "35:\tlearn: 0.3960809\ttotal: 209ms\tremaining: 5.6s\n",
      "36:\tlearn: 0.3937086\ttotal: 215ms\tremaining: 5.59s\n",
      "37:\tlearn: 0.3916508\ttotal: 222ms\tremaining: 5.62s\n",
      "38:\tlearn: 0.3888844\ttotal: 227ms\tremaining: 5.58s\n",
      "39:\tlearn: 0.3866971\ttotal: 232ms\tremaining: 5.57s\n",
      "40:\tlearn: 0.3846543\ttotal: 238ms\tremaining: 5.57s\n",
      "41:\tlearn: 0.3826771\ttotal: 246ms\tremaining: 5.62s\n",
      "42:\tlearn: 0.3810871\ttotal: 252ms\tremaining: 5.61s\n",
      "43:\tlearn: 0.3797132\ttotal: 258ms\tremaining: 5.61s\n",
      "44:\tlearn: 0.3780978\ttotal: 263ms\tremaining: 5.58s\n",
      "45:\tlearn: 0.3770482\ttotal: 270ms\tremaining: 5.6s\n",
      "46:\tlearn: 0.3758971\ttotal: 275ms\tremaining: 5.57s\n",
      "47:\tlearn: 0.3744838\ttotal: 279ms\tremaining: 5.53s\n",
      "48:\tlearn: 0.3729772\ttotal: 282ms\tremaining: 5.48s\n",
      "49:\tlearn: 0.3716278\ttotal: 287ms\tremaining: 5.44s\n",
      "50:\tlearn: 0.3702660\ttotal: 291ms\tremaining: 5.41s\n",
      "51:\tlearn: 0.3689037\ttotal: 294ms\tremaining: 5.37s\n",
      "52:\tlearn: 0.3671882\ttotal: 298ms\tremaining: 5.33s\n",
      "53:\tlearn: 0.3654581\ttotal: 302ms\tremaining: 5.29s\n",
      "54:\tlearn: 0.3645233\ttotal: 306ms\tremaining: 5.25s\n",
      "55:\tlearn: 0.3636434\ttotal: 310ms\tremaining: 5.23s\n",
      "56:\tlearn: 0.3626335\ttotal: 314ms\tremaining: 5.2s\n",
      "57:\tlearn: 0.3619045\ttotal: 318ms\tremaining: 5.17s\n",
      "58:\tlearn: 0.3612286\ttotal: 324ms\tremaining: 5.17s\n",
      "59:\tlearn: 0.3601714\ttotal: 328ms\tremaining: 5.14s\n",
      "60:\tlearn: 0.3588414\ttotal: 332ms\tremaining: 5.11s\n",
      "61:\tlearn: 0.3579401\ttotal: 337ms\tremaining: 5.09s\n",
      "62:\tlearn: 0.3569016\ttotal: 341ms\tremaining: 5.07s\n",
      "63:\tlearn: 0.3555819\ttotal: 344ms\tremaining: 5.04s\n",
      "64:\tlearn: 0.3548916\ttotal: 349ms\tremaining: 5.02s\n",
      "65:\tlearn: 0.3540727\ttotal: 352ms\tremaining: 4.99s\n",
      "66:\tlearn: 0.3533734\ttotal: 356ms\tremaining: 4.96s\n",
      "67:\tlearn: 0.3527631\ttotal: 359ms\tremaining: 4.93s\n",
      "68:\tlearn: 0.3518326\ttotal: 363ms\tremaining: 4.9s\n",
      "69:\tlearn: 0.3513573\ttotal: 366ms\tremaining: 4.87s\n",
      "70:\tlearn: 0.3507499\ttotal: 370ms\tremaining: 4.84s\n",
      "71:\tlearn: 0.3502470\ttotal: 374ms\tremaining: 4.82s\n",
      "72:\tlearn: 0.3498875\ttotal: 377ms\tremaining: 4.79s\n",
      "73:\tlearn: 0.3491939\ttotal: 381ms\tremaining: 4.77s\n",
      "74:\tlearn: 0.3487067\ttotal: 384ms\tremaining: 4.74s\n",
      "75:\tlearn: 0.3480926\ttotal: 388ms\tremaining: 4.72s\n",
      "76:\tlearn: 0.3471767\ttotal: 392ms\tremaining: 4.7s\n",
      "77:\tlearn: 0.3466430\ttotal: 396ms\tremaining: 4.68s\n",
      "78:\tlearn: 0.3465057\ttotal: 399ms\tremaining: 4.66s\n",
      "79:\tlearn: 0.3460173\ttotal: 421ms\tremaining: 4.84s\n",
      "80:\tlearn: 0.3452423\ttotal: 426ms\tremaining: 4.83s\n",
      "81:\tlearn: 0.3445316\ttotal: 431ms\tremaining: 4.83s\n",
      "82:\tlearn: 0.3442618\ttotal: 436ms\tremaining: 4.81s\n",
      "83:\tlearn: 0.3437498\ttotal: 440ms\tremaining: 4.79s\n",
      "84:\tlearn: 0.3429516\ttotal: 444ms\tremaining: 4.78s\n",
      "85:\tlearn: 0.3424305\ttotal: 448ms\tremaining: 4.76s\n",
      "86:\tlearn: 0.3416565\ttotal: 452ms\tremaining: 4.75s\n",
      "87:\tlearn: 0.3409846\ttotal: 457ms\tremaining: 4.73s\n",
      "88:\tlearn: 0.3404158\ttotal: 462ms\tremaining: 4.73s\n",
      "89:\tlearn: 0.3397722\ttotal: 466ms\tremaining: 4.71s\n",
      "90:\tlearn: 0.3394321\ttotal: 470ms\tremaining: 4.69s\n",
      "91:\tlearn: 0.3388841\ttotal: 475ms\tremaining: 4.68s\n",
      "92:\tlearn: 0.3386854\ttotal: 479ms\tremaining: 4.67s\n",
      "93:\tlearn: 0.3382673\ttotal: 484ms\tremaining: 4.66s\n",
      "94:\tlearn: 0.3377358\ttotal: 488ms\tremaining: 4.65s\n",
      "95:\tlearn: 0.3372881\ttotal: 492ms\tremaining: 4.64s\n",
      "96:\tlearn: 0.3369029\ttotal: 497ms\tremaining: 4.63s\n",
      "97:\tlearn: 0.3366310\ttotal: 501ms\tremaining: 4.61s\n",
      "98:\tlearn: 0.3361012\ttotal: 505ms\tremaining: 4.6s\n",
      "99:\tlearn: 0.3357985\ttotal: 510ms\tremaining: 4.59s\n",
      "100:\tlearn: 0.3352958\ttotal: 516ms\tremaining: 4.59s\n",
      "101:\tlearn: 0.3348201\ttotal: 521ms\tremaining: 4.59s\n",
      "102:\tlearn: 0.3345120\ttotal: 525ms\tremaining: 4.58s\n",
      "103:\tlearn: 0.3339582\ttotal: 532ms\tremaining: 4.58s\n",
      "104:\tlearn: 0.3336946\ttotal: 545ms\tremaining: 4.64s\n",
      "105:\tlearn: 0.3333982\ttotal: 557ms\tremaining: 4.7s\n",
      "106:\tlearn: 0.3330775\ttotal: 561ms\tremaining: 4.68s\n",
      "107:\tlearn: 0.3327507\ttotal: 566ms\tremaining: 4.67s\n",
      "108:\tlearn: 0.3323870\ttotal: 572ms\tremaining: 4.67s\n",
      "109:\tlearn: 0.3321293\ttotal: 578ms\tremaining: 4.68s\n",
      "110:\tlearn: 0.3318036\ttotal: 584ms\tremaining: 4.68s\n",
      "111:\tlearn: 0.3314399\ttotal: 590ms\tremaining: 4.68s\n",
      "112:\tlearn: 0.3312030\ttotal: 594ms\tremaining: 4.66s\n",
      "113:\tlearn: 0.3307507\ttotal: 597ms\tremaining: 4.64s\n",
      "114:\tlearn: 0.3305021\ttotal: 601ms\tremaining: 4.62s\n",
      "115:\tlearn: 0.3301997\ttotal: 605ms\tremaining: 4.61s\n",
      "116:\tlearn: 0.3299793\ttotal: 608ms\tremaining: 4.59s\n",
      "117:\tlearn: 0.3296913\ttotal: 613ms\tremaining: 4.58s\n",
      "118:\tlearn: 0.3294350\ttotal: 617ms\tremaining: 4.57s\n",
      "119:\tlearn: 0.3290928\ttotal: 621ms\tremaining: 4.55s\n",
      "120:\tlearn: 0.3288282\ttotal: 624ms\tremaining: 4.53s\n",
      "121:\tlearn: 0.3286163\ttotal: 628ms\tremaining: 4.52s\n",
      "122:\tlearn: 0.3284313\ttotal: 632ms\tremaining: 4.5s\n",
      "123:\tlearn: 0.3281636\ttotal: 635ms\tremaining: 4.49s\n",
      "124:\tlearn: 0.3276722\ttotal: 639ms\tremaining: 4.47s\n",
      "125:\tlearn: 0.3275169\ttotal: 642ms\tremaining: 4.46s\n",
      "126:\tlearn: 0.3273303\ttotal: 646ms\tremaining: 4.44s\n",
      "127:\tlearn: 0.3270247\ttotal: 650ms\tremaining: 4.43s\n",
      "128:\tlearn: 0.3266603\ttotal: 656ms\tremaining: 4.43s\n",
      "129:\tlearn: 0.3263849\ttotal: 661ms\tremaining: 4.42s\n",
      "130:\tlearn: 0.3260892\ttotal: 666ms\tremaining: 4.42s\n",
      "131:\tlearn: 0.3258379\ttotal: 670ms\tremaining: 4.41s\n",
      "132:\tlearn: 0.3256240\ttotal: 674ms\tremaining: 4.39s\n",
      "133:\tlearn: 0.3254613\ttotal: 680ms\tremaining: 4.39s\n",
      "134:\tlearn: 0.3252878\ttotal: 684ms\tremaining: 4.38s\n",
      "135:\tlearn: 0.3250020\ttotal: 688ms\tremaining: 4.37s\n",
      "136:\tlearn: 0.3247857\ttotal: 692ms\tremaining: 4.36s\n",
      "137:\tlearn: 0.3245240\ttotal: 695ms\tremaining: 4.34s\n",
      "138:\tlearn: 0.3243563\ttotal: 699ms\tremaining: 4.33s\n",
      "139:\tlearn: 0.3240122\ttotal: 706ms\tremaining: 4.34s\n",
      "140:\tlearn: 0.3237780\ttotal: 710ms\tremaining: 4.33s\n",
      "141:\tlearn: 0.3234629\ttotal: 714ms\tremaining: 4.32s\n",
      "142:\tlearn: 0.3232904\ttotal: 720ms\tremaining: 4.31s\n",
      "143:\tlearn: 0.3231498\ttotal: 724ms\tremaining: 4.3s\n",
      "144:\tlearn: 0.3229568\ttotal: 729ms\tremaining: 4.3s\n",
      "145:\tlearn: 0.3227330\ttotal: 734ms\tremaining: 4.29s\n",
      "146:\tlearn: 0.3225729\ttotal: 738ms\tremaining: 4.28s\n",
      "147:\tlearn: 0.3223225\ttotal: 741ms\tremaining: 4.27s\n",
      "148:\tlearn: 0.3221525\ttotal: 745ms\tremaining: 4.26s\n",
      "149:\tlearn: 0.3218809\ttotal: 749ms\tremaining: 4.24s\n",
      "150:\tlearn: 0.3217320\ttotal: 752ms\tremaining: 4.23s\n",
      "151:\tlearn: 0.3215785\ttotal: 756ms\tremaining: 4.22s\n",
      "152:\tlearn: 0.3213398\ttotal: 760ms\tremaining: 4.21s\n",
      "153:\tlearn: 0.3211352\ttotal: 764ms\tremaining: 4.2s\n",
      "154:\tlearn: 0.3209618\ttotal: 768ms\tremaining: 4.18s\n",
      "155:\tlearn: 0.3207541\ttotal: 771ms\tremaining: 4.17s\n",
      "156:\tlearn: 0.3204936\ttotal: 775ms\tremaining: 4.16s\n",
      "157:\tlearn: 0.3202610\ttotal: 778ms\tremaining: 4.15s\n",
      "158:\tlearn: 0.3200829\ttotal: 782ms\tremaining: 4.14s\n",
      "159:\tlearn: 0.3199205\ttotal: 786ms\tremaining: 4.13s\n",
      "160:\tlearn: 0.3197903\ttotal: 789ms\tremaining: 4.11s\n",
      "161:\tlearn: 0.3195745\ttotal: 796ms\tremaining: 4.12s\n",
      "162:\tlearn: 0.3194435\ttotal: 799ms\tremaining: 4.1s\n",
      "163:\tlearn: 0.3192793\ttotal: 804ms\tremaining: 4.1s\n",
      "164:\tlearn: 0.3191418\ttotal: 809ms\tremaining: 4.09s\n",
      "165:\tlearn: 0.3189882\ttotal: 812ms\tremaining: 4.08s\n",
      "166:\tlearn: 0.3187016\ttotal: 815ms\tremaining: 4.07s\n",
      "167:\tlearn: 0.3185171\ttotal: 819ms\tremaining: 4.06s\n",
      "168:\tlearn: 0.3183629\ttotal: 823ms\tremaining: 4.05s\n",
      "169:\tlearn: 0.3181041\ttotal: 827ms\tremaining: 4.04s\n",
      "170:\tlearn: 0.3180688\ttotal: 830ms\tremaining: 4.02s\n",
      "171:\tlearn: 0.3179155\ttotal: 835ms\tremaining: 4.02s\n",
      "172:\tlearn: 0.3177665\ttotal: 840ms\tremaining: 4.01s\n",
      "173:\tlearn: 0.3176801\ttotal: 844ms\tremaining: 4.01s\n",
      "174:\tlearn: 0.3175532\ttotal: 848ms\tremaining: 4s\n",
      "175:\tlearn: 0.3173793\ttotal: 852ms\tremaining: 3.99s\n",
      "176:\tlearn: 0.3171785\ttotal: 857ms\tremaining: 3.98s\n",
      "177:\tlearn: 0.3170609\ttotal: 861ms\tremaining: 3.98s\n",
      "178:\tlearn: 0.3168696\ttotal: 866ms\tremaining: 3.97s\n",
      "179:\tlearn: 0.3167624\ttotal: 870ms\tremaining: 3.96s\n",
      "180:\tlearn: 0.3165470\ttotal: 875ms\tremaining: 3.96s\n",
      "181:\tlearn: 0.3163012\ttotal: 879ms\tremaining: 3.95s\n",
      "182:\tlearn: 0.3161326\ttotal: 885ms\tremaining: 3.95s\n",
      "183:\tlearn: 0.3160238\ttotal: 890ms\tremaining: 3.95s\n",
      "184:\tlearn: 0.3159240\ttotal: 895ms\tremaining: 3.94s\n",
      "185:\tlearn: 0.3158055\ttotal: 903ms\tremaining: 3.95s\n",
      "186:\tlearn: 0.3156035\ttotal: 909ms\tremaining: 3.95s\n",
      "187:\tlearn: 0.3155551\ttotal: 913ms\tremaining: 3.94s\n",
      "188:\tlearn: 0.3153702\ttotal: 919ms\tremaining: 3.94s\n",
      "189:\tlearn: 0.3152012\ttotal: 924ms\tremaining: 3.94s\n",
      "190:\tlearn: 0.3150148\ttotal: 930ms\tremaining: 3.94s\n",
      "191:\tlearn: 0.3149042\ttotal: 936ms\tremaining: 3.94s\n",
      "192:\tlearn: 0.3147877\ttotal: 941ms\tremaining: 3.93s\n",
      "193:\tlearn: 0.3146505\ttotal: 947ms\tremaining: 3.93s\n",
      "194:\tlearn: 0.3145158\ttotal: 952ms\tremaining: 3.93s\n",
      "195:\tlearn: 0.3142747\ttotal: 957ms\tremaining: 3.92s\n",
      "196:\tlearn: 0.3141380\ttotal: 962ms\tremaining: 3.92s\n",
      "197:\tlearn: 0.3140012\ttotal: 968ms\tremaining: 3.92s\n",
      "198:\tlearn: 0.3138604\ttotal: 972ms\tremaining: 3.91s\n",
      "199:\tlearn: 0.3136521\ttotal: 976ms\tremaining: 3.9s\n",
      "200:\tlearn: 0.3134844\ttotal: 980ms\tremaining: 3.9s\n",
      "201:\tlearn: 0.3133850\ttotal: 985ms\tremaining: 3.89s\n",
      "202:\tlearn: 0.3132274\ttotal: 989ms\tremaining: 3.88s\n",
      "203:\tlearn: 0.3130959\ttotal: 995ms\tremaining: 3.88s\n",
      "204:\tlearn: 0.3130589\ttotal: 1000ms\tremaining: 3.88s\n",
      "205:\tlearn: 0.3129354\ttotal: 1s\tremaining: 3.87s\n",
      "206:\tlearn: 0.3127868\ttotal: 1.01s\tremaining: 3.86s\n",
      "207:\tlearn: 0.3126561\ttotal: 1.02s\tremaining: 3.87s\n",
      "208:\tlearn: 0.3124457\ttotal: 1.02s\tremaining: 3.87s\n",
      "209:\tlearn: 0.3122445\ttotal: 1.02s\tremaining: 3.86s\n",
      "210:\tlearn: 0.3119974\ttotal: 1.03s\tremaining: 3.85s\n",
      "211:\tlearn: 0.3118311\ttotal: 1.03s\tremaining: 3.84s\n",
      "212:\tlearn: 0.3117204\ttotal: 1.04s\tremaining: 3.83s\n",
      "213:\tlearn: 0.3115273\ttotal: 1.04s\tremaining: 3.83s\n",
      "214:\tlearn: 0.3115191\ttotal: 1.04s\tremaining: 3.82s\n",
      "215:\tlearn: 0.3112872\ttotal: 1.06s\tremaining: 3.83s\n",
      "216:\tlearn: 0.3111822\ttotal: 1.06s\tremaining: 3.83s\n",
      "217:\tlearn: 0.3110813\ttotal: 1.06s\tremaining: 3.82s\n",
      "218:\tlearn: 0.3109835\ttotal: 1.07s\tremaining: 3.83s\n",
      "219:\tlearn: 0.3108967\ttotal: 1.08s\tremaining: 3.83s\n",
      "220:\tlearn: 0.3107497\ttotal: 1.08s\tremaining: 3.82s\n",
      "221:\tlearn: 0.3106406\ttotal: 1.09s\tremaining: 3.83s\n",
      "222:\tlearn: 0.3105087\ttotal: 1.1s\tremaining: 3.83s\n",
      "223:\tlearn: 0.3103065\ttotal: 1.1s\tremaining: 3.83s\n",
      "224:\tlearn: 0.3101300\ttotal: 1.11s\tremaining: 3.83s\n",
      "225:\tlearn: 0.3100556\ttotal: 1.12s\tremaining: 3.82s\n",
      "226:\tlearn: 0.3099537\ttotal: 1.12s\tremaining: 3.82s\n",
      "227:\tlearn: 0.3098314\ttotal: 1.13s\tremaining: 3.81s\n",
      "228:\tlearn: 0.3096038\ttotal: 1.13s\tremaining: 3.81s\n",
      "229:\tlearn: 0.3094148\ttotal: 1.13s\tremaining: 3.8s\n",
      "230:\tlearn: 0.3092323\ttotal: 1.14s\tremaining: 3.79s\n",
      "231:\tlearn: 0.3091100\ttotal: 1.14s\tremaining: 3.79s\n",
      "232:\tlearn: 0.3089948\ttotal: 1.15s\tremaining: 3.79s\n",
      "233:\tlearn: 0.3087525\ttotal: 1.16s\tremaining: 3.78s\n",
      "234:\tlearn: 0.3085806\ttotal: 1.16s\tremaining: 3.78s\n",
      "235:\tlearn: 0.3084359\ttotal: 1.17s\tremaining: 3.78s\n",
      "236:\tlearn: 0.3083044\ttotal: 1.17s\tremaining: 3.78s\n",
      "237:\tlearn: 0.3081089\ttotal: 1.18s\tremaining: 3.78s\n",
      "238:\tlearn: 0.3078385\ttotal: 1.18s\tremaining: 3.77s\n",
      "239:\tlearn: 0.3076952\ttotal: 1.19s\tremaining: 3.76s\n",
      "240:\tlearn: 0.3075791\ttotal: 1.19s\tremaining: 3.75s\n",
      "241:\tlearn: 0.3073774\ttotal: 1.2s\tremaining: 3.75s\n",
      "242:\tlearn: 0.3072543\ttotal: 1.2s\tremaining: 3.74s\n",
      "243:\tlearn: 0.3071317\ttotal: 1.2s\tremaining: 3.73s\n",
      "244:\tlearn: 0.3070500\ttotal: 1.21s\tremaining: 3.72s\n",
      "245:\tlearn: 0.3069809\ttotal: 1.21s\tremaining: 3.71s\n",
      "246:\tlearn: 0.3068941\ttotal: 1.22s\tremaining: 3.71s\n",
      "247:\tlearn: 0.3067743\ttotal: 1.22s\tremaining: 3.7s\n",
      "248:\tlearn: 0.3066131\ttotal: 1.22s\tremaining: 3.69s\n",
      "249:\tlearn: 0.3064833\ttotal: 1.23s\tremaining: 3.68s\n",
      "250:\tlearn: 0.3063604\ttotal: 1.23s\tremaining: 3.67s\n",
      "251:\tlearn: 0.3062560\ttotal: 1.24s\tremaining: 3.67s\n",
      "252:\tlearn: 0.3060848\ttotal: 1.24s\tremaining: 3.66s\n",
      "253:\tlearn: 0.3059946\ttotal: 1.24s\tremaining: 3.65s\n",
      "254:\tlearn: 0.3058827\ttotal: 1.25s\tremaining: 3.64s\n",
      "255:\tlearn: 0.3058031\ttotal: 1.25s\tremaining: 3.64s\n",
      "256:\tlearn: 0.3057637\ttotal: 1.26s\tremaining: 3.63s\n",
      "257:\tlearn: 0.3056534\ttotal: 1.26s\tremaining: 3.63s\n",
      "258:\tlearn: 0.3055640\ttotal: 1.26s\tremaining: 3.62s\n",
      "259:\tlearn: 0.3055034\ttotal: 1.27s\tremaining: 3.61s\n",
      "260:\tlearn: 0.3054104\ttotal: 1.27s\tremaining: 3.6s\n",
      "261:\tlearn: 0.3052615\ttotal: 1.28s\tremaining: 3.59s\n",
      "262:\tlearn: 0.3051677\ttotal: 1.28s\tremaining: 3.59s\n",
      "263:\tlearn: 0.3050629\ttotal: 1.28s\tremaining: 3.58s\n",
      "264:\tlearn: 0.3049063\ttotal: 1.29s\tremaining: 3.57s\n",
      "265:\tlearn: 0.3048016\ttotal: 1.29s\tremaining: 3.56s\n",
      "266:\tlearn: 0.3046621\ttotal: 1.29s\tremaining: 3.55s\n",
      "267:\tlearn: 0.3045575\ttotal: 1.3s\tremaining: 3.54s\n",
      "268:\tlearn: 0.3044124\ttotal: 1.3s\tremaining: 3.54s\n",
      "269:\tlearn: 0.3041206\ttotal: 1.3s\tremaining: 3.53s\n",
      "270:\tlearn: 0.3039987\ttotal: 1.31s\tremaining: 3.52s\n",
      "271:\tlearn: 0.3038200\ttotal: 1.31s\tremaining: 3.51s\n",
      "272:\tlearn: 0.3036315\ttotal: 1.31s\tremaining: 3.5s\n",
      "273:\tlearn: 0.3034326\ttotal: 1.32s\tremaining: 3.5s\n",
      "274:\tlearn: 0.3032996\ttotal: 1.32s\tremaining: 3.49s\n",
      "275:\tlearn: 0.3031277\ttotal: 1.32s\tremaining: 3.48s\n",
      "276:\tlearn: 0.3029094\ttotal: 1.33s\tremaining: 3.47s\n",
      "277:\tlearn: 0.3027244\ttotal: 1.33s\tremaining: 3.46s\n",
      "278:\tlearn: 0.3025174\ttotal: 1.34s\tremaining: 3.45s\n",
      "279:\tlearn: 0.3023478\ttotal: 1.34s\tremaining: 3.45s\n",
      "280:\tlearn: 0.3022582\ttotal: 1.34s\tremaining: 3.44s\n",
      "281:\tlearn: 0.3021266\ttotal: 1.35s\tremaining: 3.43s\n",
      "282:\tlearn: 0.3019849\ttotal: 1.35s\tremaining: 3.42s\n",
      "283:\tlearn: 0.3017842\ttotal: 1.35s\tremaining: 3.42s\n",
      "284:\tlearn: 0.3016726\ttotal: 1.36s\tremaining: 3.41s\n",
      "285:\tlearn: 0.3015750\ttotal: 1.36s\tremaining: 3.4s\n",
      "286:\tlearn: 0.3014382\ttotal: 1.36s\tremaining: 3.39s\n",
      "287:\tlearn: 0.3013290\ttotal: 1.37s\tremaining: 3.38s\n",
      "288:\tlearn: 0.3011534\ttotal: 1.37s\tremaining: 3.38s\n",
      "289:\tlearn: 0.3009499\ttotal: 1.38s\tremaining: 3.37s\n",
      "290:\tlearn: 0.3008359\ttotal: 1.38s\tremaining: 3.36s\n",
      "291:\tlearn: 0.3006942\ttotal: 1.38s\tremaining: 3.35s\n",
      "292:\tlearn: 0.3006134\ttotal: 1.39s\tremaining: 3.35s\n",
      "293:\tlearn: 0.3005246\ttotal: 1.39s\tremaining: 3.34s\n",
      "294:\tlearn: 0.3003931\ttotal: 1.4s\tremaining: 3.33s\n",
      "295:\tlearn: 0.3001860\ttotal: 1.4s\tremaining: 3.33s\n",
      "296:\tlearn: 0.3000544\ttotal: 1.4s\tremaining: 3.32s\n",
      "297:\tlearn: 0.2999624\ttotal: 1.41s\tremaining: 3.31s\n",
      "298:\tlearn: 0.2998998\ttotal: 1.41s\tremaining: 3.3s\n",
      "299:\tlearn: 0.2997923\ttotal: 1.41s\tremaining: 3.3s\n",
      "300:\tlearn: 0.2996907\ttotal: 1.42s\tremaining: 3.3s\n",
      "301:\tlearn: 0.2995682\ttotal: 1.43s\tremaining: 3.3s\n",
      "302:\tlearn: 0.2994673\ttotal: 1.43s\tremaining: 3.29s\n",
      "303:\tlearn: 0.2993756\ttotal: 1.44s\tremaining: 3.29s\n",
      "304:\tlearn: 0.2992351\ttotal: 1.44s\tremaining: 3.29s\n",
      "305:\tlearn: 0.2991830\ttotal: 1.45s\tremaining: 3.28s\n",
      "306:\tlearn: 0.2990503\ttotal: 1.45s\tremaining: 3.27s\n",
      "307:\tlearn: 0.2989311\ttotal: 1.46s\tremaining: 3.27s\n",
      "308:\tlearn: 0.2988255\ttotal: 1.46s\tremaining: 3.27s\n",
      "309:\tlearn: 0.2987512\ttotal: 1.46s\tremaining: 3.26s\n",
      "310:\tlearn: 0.2986361\ttotal: 1.47s\tremaining: 3.25s\n",
      "311:\tlearn: 0.2984681\ttotal: 1.47s\tremaining: 3.25s\n",
      "312:\tlearn: 0.2983771\ttotal: 1.48s\tremaining: 3.24s\n",
      "313:\tlearn: 0.2982421\ttotal: 1.48s\tremaining: 3.23s\n",
      "314:\tlearn: 0.2981378\ttotal: 1.48s\tremaining: 3.23s\n",
      "315:\tlearn: 0.2979675\ttotal: 1.49s\tremaining: 3.22s\n",
      "316:\tlearn: 0.2978507\ttotal: 1.49s\tremaining: 3.22s\n",
      "317:\tlearn: 0.2977683\ttotal: 1.5s\tremaining: 3.21s\n",
      "318:\tlearn: 0.2977134\ttotal: 1.5s\tremaining: 3.2s\n",
      "319:\tlearn: 0.2975944\ttotal: 1.5s\tremaining: 3.19s\n",
      "320:\tlearn: 0.2974779\ttotal: 1.51s\tremaining: 3.19s\n",
      "321:\tlearn: 0.2973689\ttotal: 1.51s\tremaining: 3.18s\n",
      "322:\tlearn: 0.2972512\ttotal: 1.52s\tremaining: 3.18s\n",
      "323:\tlearn: 0.2971453\ttotal: 1.52s\tremaining: 3.17s\n",
      "324:\tlearn: 0.2970291\ttotal: 1.52s\tremaining: 3.17s\n",
      "325:\tlearn: 0.2968349\ttotal: 1.53s\tremaining: 3.16s\n",
      "326:\tlearn: 0.2967192\ttotal: 1.53s\tremaining: 3.15s\n",
      "327:\tlearn: 0.2966071\ttotal: 1.54s\tremaining: 3.15s\n",
      "328:\tlearn: 0.2964834\ttotal: 1.54s\tremaining: 3.14s\n",
      "329:\tlearn: 0.2963983\ttotal: 1.54s\tremaining: 3.14s\n",
      "330:\tlearn: 0.2963287\ttotal: 1.55s\tremaining: 3.13s\n",
      "331:\tlearn: 0.2961725\ttotal: 1.55s\tremaining: 3.13s\n",
      "332:\tlearn: 0.2961160\ttotal: 1.56s\tremaining: 3.12s\n",
      "333:\tlearn: 0.2959755\ttotal: 1.56s\tremaining: 3.12s\n",
      "334:\tlearn: 0.2958585\ttotal: 1.57s\tremaining: 3.11s\n",
      "335:\tlearn: 0.2957334\ttotal: 1.57s\tremaining: 3.1s\n",
      "336:\tlearn: 0.2956186\ttotal: 1.57s\tremaining: 3.1s\n",
      "337:\tlearn: 0.2954745\ttotal: 1.58s\tremaining: 3.09s\n",
      "338:\tlearn: 0.2953612\ttotal: 1.58s\tremaining: 3.08s\n",
      "339:\tlearn: 0.2952456\ttotal: 1.58s\tremaining: 3.08s\n",
      "340:\tlearn: 0.2950943\ttotal: 1.59s\tremaining: 3.07s\n",
      "341:\tlearn: 0.2950066\ttotal: 1.59s\tremaining: 3.07s\n",
      "342:\tlearn: 0.2949173\ttotal: 1.6s\tremaining: 3.06s\n",
      "343:\tlearn: 0.2947839\ttotal: 1.6s\tremaining: 3.06s\n",
      "344:\tlearn: 0.2947080\ttotal: 1.6s\tremaining: 3.05s\n",
      "345:\tlearn: 0.2945076\ttotal: 1.61s\tremaining: 3.04s\n",
      "346:\tlearn: 0.2943538\ttotal: 1.61s\tremaining: 3.04s\n",
      "347:\tlearn: 0.2941818\ttotal: 1.62s\tremaining: 3.03s\n",
      "348:\tlearn: 0.2940050\ttotal: 1.62s\tremaining: 3.02s\n",
      "349:\tlearn: 0.2939027\ttotal: 1.62s\tremaining: 3.02s\n",
      "350:\tlearn: 0.2937853\ttotal: 1.63s\tremaining: 3.01s\n",
      "351:\tlearn: 0.2936690\ttotal: 1.63s\tremaining: 3s\n",
      "352:\tlearn: 0.2934979\ttotal: 1.63s\tremaining: 2.99s\n",
      "353:\tlearn: 0.2934103\ttotal: 1.64s\tremaining: 2.99s\n",
      "354:\tlearn: 0.2933084\ttotal: 1.64s\tremaining: 2.98s\n",
      "355:\tlearn: 0.2931673\ttotal: 1.65s\tremaining: 2.98s\n",
      "356:\tlearn: 0.2929930\ttotal: 1.65s\tremaining: 2.97s\n",
      "357:\tlearn: 0.2929216\ttotal: 1.65s\tremaining: 2.96s\n",
      "358:\tlearn: 0.2928100\ttotal: 1.66s\tremaining: 2.96s\n",
      "359:\tlearn: 0.2926937\ttotal: 1.66s\tremaining: 2.95s\n",
      "360:\tlearn: 0.2925960\ttotal: 1.66s\tremaining: 2.94s\n",
      "361:\tlearn: 0.2925244\ttotal: 1.67s\tremaining: 2.94s\n",
      "362:\tlearn: 0.2923876\ttotal: 1.67s\tremaining: 2.93s\n",
      "363:\tlearn: 0.2923829\ttotal: 1.67s\tremaining: 2.92s\n",
      "364:\tlearn: 0.2923730\ttotal: 1.67s\tremaining: 2.91s\n",
      "365:\tlearn: 0.2922225\ttotal: 1.68s\tremaining: 2.91s\n",
      "366:\tlearn: 0.2921090\ttotal: 1.68s\tremaining: 2.9s\n",
      "367:\tlearn: 0.2920588\ttotal: 1.69s\tremaining: 2.9s\n",
      "368:\tlearn: 0.2919840\ttotal: 1.69s\tremaining: 2.89s\n",
      "369:\tlearn: 0.2918492\ttotal: 1.69s\tremaining: 2.88s\n",
      "370:\tlearn: 0.2917171\ttotal: 1.7s\tremaining: 2.88s\n",
      "371:\tlearn: 0.2916120\ttotal: 1.7s\tremaining: 2.87s\n",
      "372:\tlearn: 0.2914670\ttotal: 1.7s\tremaining: 2.86s\n",
      "373:\tlearn: 0.2913750\ttotal: 1.71s\tremaining: 2.86s\n",
      "374:\tlearn: 0.2912671\ttotal: 1.71s\tremaining: 2.85s\n",
      "375:\tlearn: 0.2911414\ttotal: 1.71s\tremaining: 2.85s\n",
      "376:\tlearn: 0.2909275\ttotal: 1.72s\tremaining: 2.84s\n",
      "377:\tlearn: 0.2908241\ttotal: 1.72s\tremaining: 2.83s\n",
      "378:\tlearn: 0.2906850\ttotal: 1.73s\tremaining: 2.83s\n",
      "379:\tlearn: 0.2905882\ttotal: 1.73s\tremaining: 2.82s\n",
      "380:\tlearn: 0.2904814\ttotal: 1.73s\tremaining: 2.82s\n",
      "381:\tlearn: 0.2903643\ttotal: 1.74s\tremaining: 2.81s\n",
      "382:\tlearn: 0.2902176\ttotal: 1.74s\tremaining: 2.81s\n",
      "383:\tlearn: 0.2900910\ttotal: 1.74s\tremaining: 2.8s\n",
      "384:\tlearn: 0.2899785\ttotal: 1.75s\tremaining: 2.79s\n",
      "385:\tlearn: 0.2898625\ttotal: 1.75s\tremaining: 2.79s\n",
      "386:\tlearn: 0.2897073\ttotal: 1.75s\tremaining: 2.78s\n",
      "387:\tlearn: 0.2895749\ttotal: 1.76s\tremaining: 2.77s\n",
      "388:\tlearn: 0.2894382\ttotal: 1.76s\tremaining: 2.77s\n",
      "389:\tlearn: 0.2892736\ttotal: 1.77s\tremaining: 2.76s\n",
      "390:\tlearn: 0.2891577\ttotal: 1.77s\tremaining: 2.76s\n",
      "391:\tlearn: 0.2890690\ttotal: 1.77s\tremaining: 2.75s\n",
      "392:\tlearn: 0.2889794\ttotal: 1.78s\tremaining: 2.75s\n",
      "393:\tlearn: 0.2888184\ttotal: 1.78s\tremaining: 2.74s\n",
      "394:\tlearn: 0.2887364\ttotal: 1.78s\tremaining: 2.73s\n",
      "395:\tlearn: 0.2886175\ttotal: 1.79s\tremaining: 2.73s\n",
      "396:\tlearn: 0.2885165\ttotal: 1.79s\tremaining: 2.72s\n",
      "397:\tlearn: 0.2883639\ttotal: 1.8s\tremaining: 2.72s\n",
      "398:\tlearn: 0.2881924\ttotal: 1.8s\tremaining: 2.71s\n",
      "399:\tlearn: 0.2879848\ttotal: 1.8s\tremaining: 2.71s\n",
      "400:\tlearn: 0.2878570\ttotal: 1.81s\tremaining: 2.7s\n",
      "401:\tlearn: 0.2877625\ttotal: 1.81s\tremaining: 2.69s\n",
      "402:\tlearn: 0.2876485\ttotal: 1.81s\tremaining: 2.69s\n",
      "403:\tlearn: 0.2874941\ttotal: 1.82s\tremaining: 2.68s\n",
      "404:\tlearn: 0.2874275\ttotal: 1.82s\tremaining: 2.68s\n",
      "405:\tlearn: 0.2873403\ttotal: 1.82s\tremaining: 2.67s\n",
      "406:\tlearn: 0.2872442\ttotal: 1.83s\tremaining: 2.66s\n",
      "407:\tlearn: 0.2871248\ttotal: 1.83s\tremaining: 2.66s\n",
      "408:\tlearn: 0.2870284\ttotal: 1.84s\tremaining: 2.65s\n",
      "409:\tlearn: 0.2869274\ttotal: 1.84s\tremaining: 2.65s\n",
      "410:\tlearn: 0.2867983\ttotal: 1.84s\tremaining: 2.64s\n",
      "411:\tlearn: 0.2866910\ttotal: 1.85s\tremaining: 2.64s\n",
      "412:\tlearn: 0.2865543\ttotal: 1.85s\tremaining: 2.63s\n",
      "413:\tlearn: 0.2864786\ttotal: 1.85s\tremaining: 2.63s\n",
      "414:\tlearn: 0.2864026\ttotal: 1.86s\tremaining: 2.62s\n",
      "415:\tlearn: 0.2862885\ttotal: 1.86s\tremaining: 2.62s\n",
      "416:\tlearn: 0.2861472\ttotal: 1.87s\tremaining: 2.61s\n",
      "417:\tlearn: 0.2860669\ttotal: 1.87s\tremaining: 2.6s\n",
      "418:\tlearn: 0.2859408\ttotal: 1.87s\tremaining: 2.6s\n",
      "419:\tlearn: 0.2858087\ttotal: 1.88s\tremaining: 2.59s\n",
      "420:\tlearn: 0.2856973\ttotal: 1.88s\tremaining: 2.59s\n",
      "421:\tlearn: 0.2856020\ttotal: 1.88s\tremaining: 2.58s\n",
      "422:\tlearn: 0.2854750\ttotal: 1.89s\tremaining: 2.58s\n",
      "423:\tlearn: 0.2853642\ttotal: 1.89s\tremaining: 2.57s\n",
      "424:\tlearn: 0.2852239\ttotal: 1.9s\tremaining: 2.57s\n",
      "425:\tlearn: 0.2850879\ttotal: 1.9s\tremaining: 2.56s\n",
      "426:\tlearn: 0.2849747\ttotal: 1.9s\tremaining: 2.55s\n",
      "427:\tlearn: 0.2848838\ttotal: 1.91s\tremaining: 2.55s\n",
      "428:\tlearn: 0.2847945\ttotal: 1.91s\tremaining: 2.54s\n",
      "429:\tlearn: 0.2846858\ttotal: 1.91s\tremaining: 2.54s\n",
      "430:\tlearn: 0.2845917\ttotal: 1.92s\tremaining: 2.53s\n",
      "431:\tlearn: 0.2844612\ttotal: 1.92s\tremaining: 2.52s\n",
      "432:\tlearn: 0.2843552\ttotal: 1.92s\tremaining: 2.52s\n",
      "433:\tlearn: 0.2842224\ttotal: 1.93s\tremaining: 2.51s\n",
      "434:\tlearn: 0.2840455\ttotal: 1.93s\tremaining: 2.51s\n",
      "435:\tlearn: 0.2839370\ttotal: 1.93s\tremaining: 2.5s\n",
      "436:\tlearn: 0.2838236\ttotal: 1.94s\tremaining: 2.5s\n",
      "437:\tlearn: 0.2837092\ttotal: 1.94s\tremaining: 2.49s\n",
      "438:\tlearn: 0.2836081\ttotal: 1.94s\tremaining: 2.48s\n",
      "439:\tlearn: 0.2834783\ttotal: 1.95s\tremaining: 2.48s\n",
      "440:\tlearn: 0.2833306\ttotal: 1.95s\tremaining: 2.47s\n",
      "441:\tlearn: 0.2832118\ttotal: 1.96s\tremaining: 2.47s\n",
      "442:\tlearn: 0.2830838\ttotal: 1.96s\tremaining: 2.46s\n",
      "443:\tlearn: 0.2830148\ttotal: 1.96s\tremaining: 2.46s\n",
      "444:\tlearn: 0.2828955\ttotal: 1.97s\tremaining: 2.45s\n",
      "445:\tlearn: 0.2828257\ttotal: 1.97s\tremaining: 2.44s\n",
      "446:\tlearn: 0.2827191\ttotal: 1.97s\tremaining: 2.44s\n",
      "447:\tlearn: 0.2825812\ttotal: 1.98s\tremaining: 2.43s\n",
      "448:\tlearn: 0.2824863\ttotal: 1.98s\tremaining: 2.43s\n",
      "449:\tlearn: 0.2823616\ttotal: 1.98s\tremaining: 2.42s\n",
      "450:\tlearn: 0.2822310\ttotal: 1.99s\tremaining: 2.42s\n",
      "451:\tlearn: 0.2821428\ttotal: 1.99s\tremaining: 2.41s\n",
      "452:\tlearn: 0.2820098\ttotal: 1.99s\tremaining: 2.4s\n",
      "453:\tlearn: 0.2818957\ttotal: 2s\tremaining: 2.4s\n",
      "454:\tlearn: 0.2817375\ttotal: 2s\tremaining: 2.39s\n",
      "455:\tlearn: 0.2816517\ttotal: 2s\tremaining: 2.39s\n",
      "456:\tlearn: 0.2815027\ttotal: 2s\tremaining: 2.38s\n",
      "457:\tlearn: 0.2813528\ttotal: 2.01s\tremaining: 2.38s\n",
      "458:\tlearn: 0.2812265\ttotal: 2.01s\tremaining: 2.37s\n",
      "459:\tlearn: 0.2811630\ttotal: 2.02s\tremaining: 2.37s\n",
      "460:\tlearn: 0.2810523\ttotal: 2.02s\tremaining: 2.36s\n",
      "461:\tlearn: 0.2809410\ttotal: 2.02s\tremaining: 2.35s\n",
      "462:\tlearn: 0.2807988\ttotal: 2.03s\tremaining: 2.35s\n",
      "463:\tlearn: 0.2806833\ttotal: 2.03s\tremaining: 2.34s\n",
      "464:\tlearn: 0.2805568\ttotal: 2.03s\tremaining: 2.34s\n",
      "465:\tlearn: 0.2804242\ttotal: 2.04s\tremaining: 2.33s\n",
      "466:\tlearn: 0.2803223\ttotal: 2.04s\tremaining: 2.33s\n",
      "467:\tlearn: 0.2802049\ttotal: 2.04s\tremaining: 2.32s\n",
      "468:\tlearn: 0.2801032\ttotal: 2.05s\tremaining: 2.32s\n",
      "469:\tlearn: 0.2799706\ttotal: 2.05s\tremaining: 2.31s\n",
      "470:\tlearn: 0.2798645\ttotal: 2.05s\tremaining: 2.31s\n",
      "471:\tlearn: 0.2797148\ttotal: 2.06s\tremaining: 2.3s\n",
      "472:\tlearn: 0.2795707\ttotal: 2.06s\tremaining: 2.3s\n",
      "473:\tlearn: 0.2795068\ttotal: 2.06s\tremaining: 2.29s\n",
      "474:\tlearn: 0.2794259\ttotal: 2.07s\tremaining: 2.29s\n",
      "475:\tlearn: 0.2792932\ttotal: 2.07s\tremaining: 2.28s\n",
      "476:\tlearn: 0.2791851\ttotal: 2.07s\tremaining: 2.27s\n",
      "477:\tlearn: 0.2790911\ttotal: 2.08s\tremaining: 2.27s\n",
      "478:\tlearn: 0.2789228\ttotal: 2.08s\tremaining: 2.26s\n",
      "479:\tlearn: 0.2788242\ttotal: 2.08s\tremaining: 2.26s\n",
      "480:\tlearn: 0.2787497\ttotal: 2.09s\tremaining: 2.25s\n",
      "481:\tlearn: 0.2786393\ttotal: 2.09s\tremaining: 2.25s\n",
      "482:\tlearn: 0.2785360\ttotal: 2.09s\tremaining: 2.24s\n",
      "483:\tlearn: 0.2784218\ttotal: 2.1s\tremaining: 2.23s\n",
      "484:\tlearn: 0.2783438\ttotal: 2.1s\tremaining: 2.23s\n",
      "485:\tlearn: 0.2782249\ttotal: 2.1s\tremaining: 2.22s\n",
      "486:\tlearn: 0.2780648\ttotal: 2.11s\tremaining: 2.22s\n",
      "487:\tlearn: 0.2778969\ttotal: 2.11s\tremaining: 2.21s\n",
      "488:\tlearn: 0.2777804\ttotal: 2.11s\tremaining: 2.21s\n",
      "489:\tlearn: 0.2776717\ttotal: 2.12s\tremaining: 2.2s\n",
      "490:\tlearn: 0.2775214\ttotal: 2.12s\tremaining: 2.2s\n",
      "491:\tlearn: 0.2774072\ttotal: 2.12s\tremaining: 2.19s\n",
      "492:\tlearn: 0.2773156\ttotal: 2.13s\tremaining: 2.19s\n",
      "493:\tlearn: 0.2771494\ttotal: 2.13s\tremaining: 2.18s\n",
      "494:\tlearn: 0.2770857\ttotal: 2.13s\tremaining: 2.17s\n",
      "495:\tlearn: 0.2768317\ttotal: 2.13s\tremaining: 2.17s\n",
      "496:\tlearn: 0.2767072\ttotal: 2.14s\tremaining: 2.16s\n",
      "497:\tlearn: 0.2766031\ttotal: 2.14s\tremaining: 2.16s\n",
      "498:\tlearn: 0.2764839\ttotal: 2.15s\tremaining: 2.15s\n",
      "499:\tlearn: 0.2763983\ttotal: 2.15s\tremaining: 2.15s\n",
      "500:\tlearn: 0.2762894\ttotal: 2.15s\tremaining: 2.14s\n",
      "501:\tlearn: 0.2761740\ttotal: 2.15s\tremaining: 2.14s\n",
      "502:\tlearn: 0.2760768\ttotal: 2.16s\tremaining: 2.13s\n",
      "503:\tlearn: 0.2759602\ttotal: 2.16s\tremaining: 2.13s\n",
      "504:\tlearn: 0.2758251\ttotal: 2.16s\tremaining: 2.12s\n",
      "505:\tlearn: 0.2757283\ttotal: 2.17s\tremaining: 2.12s\n",
      "506:\tlearn: 0.2756249\ttotal: 2.17s\tremaining: 2.11s\n",
      "507:\tlearn: 0.2755338\ttotal: 2.17s\tremaining: 2.1s\n",
      "508:\tlearn: 0.2754521\ttotal: 2.18s\tremaining: 2.1s\n",
      "509:\tlearn: 0.2753509\ttotal: 2.18s\tremaining: 2.1s\n",
      "510:\tlearn: 0.2752504\ttotal: 2.18s\tremaining: 2.09s\n",
      "511:\tlearn: 0.2751543\ttotal: 2.19s\tremaining: 2.08s\n",
      "512:\tlearn: 0.2750488\ttotal: 2.19s\tremaining: 2.08s\n",
      "513:\tlearn: 0.2749057\ttotal: 2.19s\tremaining: 2.07s\n",
      "514:\tlearn: 0.2747725\ttotal: 2.2s\tremaining: 2.07s\n",
      "515:\tlearn: 0.2746677\ttotal: 2.2s\tremaining: 2.06s\n",
      "516:\tlearn: 0.2745171\ttotal: 2.2s\tremaining: 2.06s\n",
      "517:\tlearn: 0.2743740\ttotal: 2.21s\tremaining: 2.05s\n",
      "518:\tlearn: 0.2742551\ttotal: 2.21s\tremaining: 2.05s\n",
      "519:\tlearn: 0.2741201\ttotal: 2.21s\tremaining: 2.04s\n",
      "520:\tlearn: 0.2740275\ttotal: 2.22s\tremaining: 2.04s\n",
      "521:\tlearn: 0.2739382\ttotal: 2.22s\tremaining: 2.03s\n",
      "522:\tlearn: 0.2738201\ttotal: 2.23s\tremaining: 2.03s\n",
      "523:\tlearn: 0.2737065\ttotal: 2.23s\tremaining: 2.02s\n",
      "524:\tlearn: 0.2735973\ttotal: 2.23s\tremaining: 2.02s\n",
      "525:\tlearn: 0.2734993\ttotal: 2.23s\tremaining: 2.01s\n",
      "526:\tlearn: 0.2734209\ttotal: 2.24s\tremaining: 2.01s\n",
      "527:\tlearn: 0.2732785\ttotal: 2.24s\tremaining: 2s\n",
      "528:\tlearn: 0.2732176\ttotal: 2.25s\tremaining: 2s\n",
      "529:\tlearn: 0.2731053\ttotal: 2.25s\tremaining: 1.99s\n",
      "530:\tlearn: 0.2730017\ttotal: 2.25s\tremaining: 1.99s\n",
      "531:\tlearn: 0.2728608\ttotal: 2.26s\tremaining: 1.98s\n",
      "532:\tlearn: 0.2727388\ttotal: 2.26s\tremaining: 1.98s\n",
      "533:\tlearn: 0.2726507\ttotal: 2.26s\tremaining: 1.97s\n",
      "534:\tlearn: 0.2725125\ttotal: 2.27s\tremaining: 1.97s\n",
      "535:\tlearn: 0.2723854\ttotal: 2.27s\tremaining: 1.97s\n",
      "536:\tlearn: 0.2722575\ttotal: 2.27s\tremaining: 1.96s\n",
      "537:\tlearn: 0.2721662\ttotal: 2.28s\tremaining: 1.95s\n",
      "538:\tlearn: 0.2720857\ttotal: 2.28s\tremaining: 1.95s\n",
      "539:\tlearn: 0.2719769\ttotal: 2.28s\tremaining: 1.95s\n",
      "540:\tlearn: 0.2718557\ttotal: 2.29s\tremaining: 1.94s\n",
      "541:\tlearn: 0.2717560\ttotal: 2.29s\tremaining: 1.94s\n",
      "542:\tlearn: 0.2716465\ttotal: 2.29s\tremaining: 1.93s\n",
      "543:\tlearn: 0.2715399\ttotal: 2.3s\tremaining: 1.93s\n",
      "544:\tlearn: 0.2714552\ttotal: 2.3s\tremaining: 1.92s\n",
      "545:\tlearn: 0.2713329\ttotal: 2.3s\tremaining: 1.92s\n",
      "546:\tlearn: 0.2712264\ttotal: 2.31s\tremaining: 1.91s\n",
      "547:\tlearn: 0.2711407\ttotal: 2.31s\tremaining: 1.91s\n",
      "548:\tlearn: 0.2710449\ttotal: 2.31s\tremaining: 1.9s\n",
      "549:\tlearn: 0.2709129\ttotal: 2.32s\tremaining: 1.9s\n",
      "550:\tlearn: 0.2708086\ttotal: 2.32s\tremaining: 1.89s\n",
      "551:\tlearn: 0.2706680\ttotal: 2.32s\tremaining: 1.89s\n",
      "552:\tlearn: 0.2705582\ttotal: 2.33s\tremaining: 1.88s\n",
      "553:\tlearn: 0.2704838\ttotal: 2.33s\tremaining: 1.88s\n",
      "554:\tlearn: 0.2704036\ttotal: 2.33s\tremaining: 1.87s\n",
      "555:\tlearn: 0.2703290\ttotal: 2.34s\tremaining: 1.87s\n",
      "556:\tlearn: 0.2702101\ttotal: 2.34s\tremaining: 1.86s\n",
      "557:\tlearn: 0.2701441\ttotal: 2.34s\tremaining: 1.86s\n",
      "558:\tlearn: 0.2700363\ttotal: 2.35s\tremaining: 1.85s\n",
      "559:\tlearn: 0.2699519\ttotal: 2.35s\tremaining: 1.85s\n",
      "560:\tlearn: 0.2698573\ttotal: 2.35s\tremaining: 1.84s\n",
      "561:\tlearn: 0.2697778\ttotal: 2.36s\tremaining: 1.84s\n",
      "562:\tlearn: 0.2696795\ttotal: 2.36s\tremaining: 1.83s\n",
      "563:\tlearn: 0.2695653\ttotal: 2.37s\tremaining: 1.83s\n",
      "564:\tlearn: 0.2694503\ttotal: 2.37s\tremaining: 1.82s\n",
      "565:\tlearn: 0.2693355\ttotal: 2.37s\tremaining: 1.82s\n",
      "566:\tlearn: 0.2692302\ttotal: 2.38s\tremaining: 1.81s\n",
      "567:\tlearn: 0.2691214\ttotal: 2.38s\tremaining: 1.81s\n",
      "568:\tlearn: 0.2690357\ttotal: 2.38s\tremaining: 1.8s\n",
      "569:\tlearn: 0.2689001\ttotal: 2.38s\tremaining: 1.8s\n",
      "570:\tlearn: 0.2687508\ttotal: 2.39s\tremaining: 1.79s\n",
      "571:\tlearn: 0.2686562\ttotal: 2.39s\tremaining: 1.79s\n",
      "572:\tlearn: 0.2685639\ttotal: 2.4s\tremaining: 1.78s\n",
      "573:\tlearn: 0.2684735\ttotal: 2.4s\tremaining: 1.78s\n",
      "574:\tlearn: 0.2683747\ttotal: 2.4s\tremaining: 1.78s\n",
      "575:\tlearn: 0.2682750\ttotal: 2.41s\tremaining: 1.77s\n",
      "576:\tlearn: 0.2681464\ttotal: 2.41s\tremaining: 1.77s\n",
      "577:\tlearn: 0.2680311\ttotal: 2.41s\tremaining: 1.76s\n",
      "578:\tlearn: 0.2679232\ttotal: 2.42s\tremaining: 1.76s\n",
      "579:\tlearn: 0.2678128\ttotal: 2.42s\tremaining: 1.75s\n",
      "580:\tlearn: 0.2677069\ttotal: 2.42s\tremaining: 1.75s\n",
      "581:\tlearn: 0.2676415\ttotal: 2.43s\tremaining: 1.74s\n",
      "582:\tlearn: 0.2675621\ttotal: 2.43s\tremaining: 1.74s\n",
      "583:\tlearn: 0.2674663\ttotal: 2.43s\tremaining: 1.73s\n",
      "584:\tlearn: 0.2673565\ttotal: 2.44s\tremaining: 1.73s\n",
      "585:\tlearn: 0.2672222\ttotal: 2.44s\tremaining: 1.72s\n",
      "586:\tlearn: 0.2671369\ttotal: 2.44s\tremaining: 1.72s\n",
      "587:\tlearn: 0.2670144\ttotal: 2.45s\tremaining: 1.72s\n",
      "588:\tlearn: 0.2669093\ttotal: 2.45s\tremaining: 1.71s\n",
      "589:\tlearn: 0.2668071\ttotal: 2.46s\tremaining: 1.71s\n",
      "590:\tlearn: 0.2667181\ttotal: 2.46s\tremaining: 1.7s\n",
      "591:\tlearn: 0.2666298\ttotal: 2.46s\tremaining: 1.7s\n",
      "592:\tlearn: 0.2665452\ttotal: 2.46s\tremaining: 1.69s\n",
      "593:\tlearn: 0.2664237\ttotal: 2.47s\tremaining: 1.69s\n",
      "594:\tlearn: 0.2663525\ttotal: 2.47s\tremaining: 1.68s\n",
      "595:\tlearn: 0.2662970\ttotal: 2.48s\tremaining: 1.68s\n",
      "596:\tlearn: 0.2661861\ttotal: 2.48s\tremaining: 1.67s\n",
      "597:\tlearn: 0.2661059\ttotal: 2.48s\tremaining: 1.67s\n",
      "598:\tlearn: 0.2660480\ttotal: 2.48s\tremaining: 1.66s\n",
      "599:\tlearn: 0.2659535\ttotal: 2.49s\tremaining: 1.66s\n",
      "600:\tlearn: 0.2658712\ttotal: 2.49s\tremaining: 1.65s\n",
      "601:\tlearn: 0.2657894\ttotal: 2.49s\tremaining: 1.65s\n",
      "602:\tlearn: 0.2656878\ttotal: 2.5s\tremaining: 1.64s\n",
      "603:\tlearn: 0.2656108\ttotal: 2.5s\tremaining: 1.64s\n",
      "604:\tlearn: 0.2654799\ttotal: 2.51s\tremaining: 1.64s\n",
      "605:\tlearn: 0.2653637\ttotal: 2.51s\tremaining: 1.63s\n",
      "606:\tlearn: 0.2652281\ttotal: 2.51s\tremaining: 1.63s\n",
      "607:\tlearn: 0.2651356\ttotal: 2.52s\tremaining: 1.62s\n",
      "608:\tlearn: 0.2650059\ttotal: 2.52s\tremaining: 1.62s\n",
      "609:\tlearn: 0.2648781\ttotal: 2.52s\tremaining: 1.61s\n",
      "610:\tlearn: 0.2647756\ttotal: 2.53s\tremaining: 1.61s\n",
      "611:\tlearn: 0.2646991\ttotal: 2.53s\tremaining: 1.6s\n",
      "612:\tlearn: 0.2646263\ttotal: 2.53s\tremaining: 1.6s\n",
      "613:\tlearn: 0.2645130\ttotal: 2.54s\tremaining: 1.59s\n",
      "614:\tlearn: 0.2644229\ttotal: 2.54s\tremaining: 1.59s\n",
      "615:\tlearn: 0.2643058\ttotal: 2.54s\tremaining: 1.59s\n",
      "616:\tlearn: 0.2642133\ttotal: 2.55s\tremaining: 1.58s\n",
      "617:\tlearn: 0.2641338\ttotal: 2.55s\tremaining: 1.58s\n",
      "618:\tlearn: 0.2640530\ttotal: 2.55s\tremaining: 1.57s\n",
      "619:\tlearn: 0.2639451\ttotal: 2.56s\tremaining: 1.57s\n",
      "620:\tlearn: 0.2638713\ttotal: 2.56s\tremaining: 1.56s\n",
      "621:\tlearn: 0.2637640\ttotal: 2.56s\tremaining: 1.56s\n",
      "622:\tlearn: 0.2637057\ttotal: 2.57s\tremaining: 1.55s\n",
      "623:\tlearn: 0.2635891\ttotal: 2.57s\tremaining: 1.55s\n",
      "624:\tlearn: 0.2634867\ttotal: 2.57s\tremaining: 1.54s\n",
      "625:\tlearn: 0.2633893\ttotal: 2.58s\tremaining: 1.54s\n",
      "626:\tlearn: 0.2632975\ttotal: 2.58s\tremaining: 1.53s\n",
      "627:\tlearn: 0.2631654\ttotal: 2.58s\tremaining: 1.53s\n",
      "628:\tlearn: 0.2630678\ttotal: 2.59s\tremaining: 1.52s\n",
      "629:\tlearn: 0.2629530\ttotal: 2.59s\tremaining: 1.52s\n",
      "630:\tlearn: 0.2628724\ttotal: 2.59s\tremaining: 1.52s\n",
      "631:\tlearn: 0.2627628\ttotal: 2.6s\tremaining: 1.51s\n",
      "632:\tlearn: 0.2626576\ttotal: 2.6s\tremaining: 1.51s\n",
      "633:\tlearn: 0.2625194\ttotal: 2.6s\tremaining: 1.5s\n",
      "634:\tlearn: 0.2624000\ttotal: 2.61s\tremaining: 1.5s\n",
      "635:\tlearn: 0.2622919\ttotal: 2.61s\tremaining: 1.5s\n",
      "636:\tlearn: 0.2621709\ttotal: 2.62s\tremaining: 1.49s\n",
      "637:\tlearn: 0.2621028\ttotal: 2.62s\tremaining: 1.49s\n",
      "638:\tlearn: 0.2620029\ttotal: 2.62s\tremaining: 1.48s\n",
      "639:\tlearn: 0.2618927\ttotal: 2.63s\tremaining: 1.48s\n",
      "640:\tlearn: 0.2617583\ttotal: 2.65s\tremaining: 1.48s\n",
      "641:\tlearn: 0.2616604\ttotal: 2.66s\tremaining: 1.48s\n",
      "642:\tlearn: 0.2615828\ttotal: 2.66s\tremaining: 1.48s\n",
      "643:\tlearn: 0.2614911\ttotal: 2.67s\tremaining: 1.47s\n",
      "644:\tlearn: 0.2614113\ttotal: 2.67s\tremaining: 1.47s\n",
      "645:\tlearn: 0.2613146\ttotal: 2.68s\tremaining: 1.47s\n",
      "646:\tlearn: 0.2612482\ttotal: 2.68s\tremaining: 1.46s\n",
      "647:\tlearn: 0.2611621\ttotal: 2.68s\tremaining: 1.46s\n",
      "648:\tlearn: 0.2610750\ttotal: 2.69s\tremaining: 1.45s\n",
      "649:\tlearn: 0.2609571\ttotal: 2.69s\tremaining: 1.45s\n",
      "650:\tlearn: 0.2608595\ttotal: 2.69s\tremaining: 1.44s\n",
      "651:\tlearn: 0.2607750\ttotal: 2.7s\tremaining: 1.44s\n",
      "652:\tlearn: 0.2606245\ttotal: 2.7s\tremaining: 1.43s\n",
      "653:\tlearn: 0.2605413\ttotal: 2.7s\tremaining: 1.43s\n",
      "654:\tlearn: 0.2604667\ttotal: 2.71s\tremaining: 1.43s\n",
      "655:\tlearn: 0.2603803\ttotal: 2.71s\tremaining: 1.42s\n",
      "656:\tlearn: 0.2603407\ttotal: 2.71s\tremaining: 1.42s\n",
      "657:\tlearn: 0.2602408\ttotal: 2.72s\tremaining: 1.41s\n",
      "658:\tlearn: 0.2601535\ttotal: 2.72s\tremaining: 1.41s\n",
      "659:\tlearn: 0.2600194\ttotal: 2.72s\tremaining: 1.4s\n",
      "660:\tlearn: 0.2599488\ttotal: 2.73s\tremaining: 1.4s\n",
      "661:\tlearn: 0.2598642\ttotal: 2.73s\tremaining: 1.39s\n",
      "662:\tlearn: 0.2597816\ttotal: 2.73s\tremaining: 1.39s\n",
      "663:\tlearn: 0.2596816\ttotal: 2.74s\tremaining: 1.39s\n",
      "664:\tlearn: 0.2595910\ttotal: 2.74s\tremaining: 1.38s\n",
      "665:\tlearn: 0.2594989\ttotal: 2.74s\tremaining: 1.38s\n",
      "666:\tlearn: 0.2594181\ttotal: 2.75s\tremaining: 1.37s\n",
      "667:\tlearn: 0.2593320\ttotal: 2.75s\tremaining: 1.37s\n",
      "668:\tlearn: 0.2592535\ttotal: 2.75s\tremaining: 1.36s\n",
      "669:\tlearn: 0.2591735\ttotal: 2.76s\tremaining: 1.36s\n",
      "670:\tlearn: 0.2590928\ttotal: 2.76s\tremaining: 1.35s\n",
      "671:\tlearn: 0.2589639\ttotal: 2.76s\tremaining: 1.35s\n",
      "672:\tlearn: 0.2588493\ttotal: 2.77s\tremaining: 1.34s\n",
      "673:\tlearn: 0.2587461\ttotal: 2.77s\tremaining: 1.34s\n",
      "674:\tlearn: 0.2586668\ttotal: 2.77s\tremaining: 1.33s\n",
      "675:\tlearn: 0.2585914\ttotal: 2.78s\tremaining: 1.33s\n",
      "676:\tlearn: 0.2585201\ttotal: 2.78s\tremaining: 1.33s\n",
      "677:\tlearn: 0.2584550\ttotal: 2.78s\tremaining: 1.32s\n",
      "678:\tlearn: 0.2583609\ttotal: 2.79s\tremaining: 1.32s\n",
      "679:\tlearn: 0.2582547\ttotal: 2.79s\tremaining: 1.31s\n",
      "680:\tlearn: 0.2581876\ttotal: 2.79s\tremaining: 1.31s\n",
      "681:\tlearn: 0.2581243\ttotal: 2.8s\tremaining: 1.3s\n",
      "682:\tlearn: 0.2580243\ttotal: 2.8s\tremaining: 1.3s\n",
      "683:\tlearn: 0.2579056\ttotal: 2.8s\tremaining: 1.29s\n",
      "684:\tlearn: 0.2578297\ttotal: 2.81s\tremaining: 1.29s\n",
      "685:\tlearn: 0.2577289\ttotal: 2.81s\tremaining: 1.29s\n",
      "686:\tlearn: 0.2576455\ttotal: 2.82s\tremaining: 1.28s\n",
      "687:\tlearn: 0.2575426\ttotal: 2.82s\tremaining: 1.28s\n",
      "688:\tlearn: 0.2574527\ttotal: 2.82s\tremaining: 1.27s\n",
      "689:\tlearn: 0.2573538\ttotal: 2.83s\tremaining: 1.27s\n",
      "690:\tlearn: 0.2572815\ttotal: 2.83s\tremaining: 1.27s\n",
      "691:\tlearn: 0.2571831\ttotal: 2.83s\tremaining: 1.26s\n",
      "692:\tlearn: 0.2570886\ttotal: 2.84s\tremaining: 1.26s\n",
      "693:\tlearn: 0.2569777\ttotal: 2.84s\tremaining: 1.25s\n",
      "694:\tlearn: 0.2569034\ttotal: 2.84s\tremaining: 1.25s\n",
      "695:\tlearn: 0.2568430\ttotal: 2.85s\tremaining: 1.24s\n",
      "696:\tlearn: 0.2567372\ttotal: 2.85s\tremaining: 1.24s\n",
      "697:\tlearn: 0.2566754\ttotal: 2.85s\tremaining: 1.23s\n",
      "698:\tlearn: 0.2565639\ttotal: 2.86s\tremaining: 1.23s\n",
      "699:\tlearn: 0.2564722\ttotal: 2.86s\tremaining: 1.23s\n",
      "700:\tlearn: 0.2563631\ttotal: 2.86s\tremaining: 1.22s\n",
      "701:\tlearn: 0.2562646\ttotal: 2.87s\tremaining: 1.22s\n",
      "702:\tlearn: 0.2561882\ttotal: 2.87s\tremaining: 1.21s\n",
      "703:\tlearn: 0.2560944\ttotal: 2.87s\tremaining: 1.21s\n",
      "704:\tlearn: 0.2560165\ttotal: 2.88s\tremaining: 1.2s\n",
      "705:\tlearn: 0.2559202\ttotal: 2.88s\tremaining: 1.2s\n",
      "706:\tlearn: 0.2558188\ttotal: 2.88s\tremaining: 1.2s\n",
      "707:\tlearn: 0.2557370\ttotal: 2.89s\tremaining: 1.19s\n",
      "708:\tlearn: 0.2556167\ttotal: 2.89s\tremaining: 1.19s\n",
      "709:\tlearn: 0.2555360\ttotal: 2.89s\tremaining: 1.18s\n",
      "710:\tlearn: 0.2554872\ttotal: 2.9s\tremaining: 1.18s\n",
      "711:\tlearn: 0.2554024\ttotal: 2.9s\tremaining: 1.17s\n",
      "712:\tlearn: 0.2553172\ttotal: 2.9s\tremaining: 1.17s\n",
      "713:\tlearn: 0.2552247\ttotal: 2.91s\tremaining: 1.16s\n",
      "714:\tlearn: 0.2551010\ttotal: 2.91s\tremaining: 1.16s\n",
      "715:\tlearn: 0.2550277\ttotal: 2.91s\tremaining: 1.16s\n",
      "716:\tlearn: 0.2549290\ttotal: 2.92s\tremaining: 1.15s\n",
      "717:\tlearn: 0.2548279\ttotal: 2.92s\tremaining: 1.15s\n",
      "718:\tlearn: 0.2547502\ttotal: 2.92s\tremaining: 1.14s\n",
      "719:\tlearn: 0.2546907\ttotal: 2.93s\tremaining: 1.14s\n",
      "720:\tlearn: 0.2545911\ttotal: 2.93s\tremaining: 1.13s\n",
      "721:\tlearn: 0.2545018\ttotal: 2.93s\tremaining: 1.13s\n",
      "722:\tlearn: 0.2544067\ttotal: 2.94s\tremaining: 1.13s\n",
      "723:\tlearn: 0.2543136\ttotal: 2.94s\tremaining: 1.12s\n",
      "724:\tlearn: 0.2541630\ttotal: 2.94s\tremaining: 1.12s\n",
      "725:\tlearn: 0.2540710\ttotal: 2.95s\tremaining: 1.11s\n",
      "726:\tlearn: 0.2539878\ttotal: 2.95s\tremaining: 1.11s\n",
      "727:\tlearn: 0.2539061\ttotal: 2.95s\tremaining: 1.1s\n",
      "728:\tlearn: 0.2538261\ttotal: 2.96s\tremaining: 1.1s\n",
      "729:\tlearn: 0.2537155\ttotal: 2.96s\tremaining: 1.09s\n",
      "730:\tlearn: 0.2535680\ttotal: 2.96s\tremaining: 1.09s\n",
      "731:\tlearn: 0.2534644\ttotal: 2.97s\tremaining: 1.08s\n",
      "732:\tlearn: 0.2533341\ttotal: 2.97s\tremaining: 1.08s\n",
      "733:\tlearn: 0.2532655\ttotal: 2.97s\tremaining: 1.08s\n",
      "734:\tlearn: 0.2531651\ttotal: 2.98s\tremaining: 1.07s\n",
      "735:\tlearn: 0.2531100\ttotal: 2.98s\tremaining: 1.07s\n",
      "736:\tlearn: 0.2530075\ttotal: 2.98s\tremaining: 1.06s\n",
      "737:\tlearn: 0.2529220\ttotal: 2.98s\tremaining: 1.06s\n",
      "738:\tlearn: 0.2528344\ttotal: 2.99s\tremaining: 1.05s\n",
      "739:\tlearn: 0.2527368\ttotal: 2.99s\tremaining: 1.05s\n",
      "740:\tlearn: 0.2526613\ttotal: 3s\tremaining: 1.05s\n",
      "741:\tlearn: 0.2525690\ttotal: 3s\tremaining: 1.04s\n",
      "742:\tlearn: 0.2524591\ttotal: 3s\tremaining: 1.04s\n",
      "743:\tlearn: 0.2523623\ttotal: 3s\tremaining: 1.03s\n",
      "744:\tlearn: 0.2522944\ttotal: 3.01s\tremaining: 1.03s\n",
      "745:\tlearn: 0.2522480\ttotal: 3.01s\tremaining: 1.03s\n",
      "746:\tlearn: 0.2521349\ttotal: 3.02s\tremaining: 1.02s\n",
      "747:\tlearn: 0.2520484\ttotal: 3.02s\tremaining: 1.02s\n",
      "748:\tlearn: 0.2519570\ttotal: 3.02s\tremaining: 1.01s\n",
      "749:\tlearn: 0.2518704\ttotal: 3.03s\tremaining: 1.01s\n",
      "750:\tlearn: 0.2517714\ttotal: 3.03s\tremaining: 1s\n",
      "751:\tlearn: 0.2516768\ttotal: 3.03s\tremaining: 1s\n",
      "752:\tlearn: 0.2515753\ttotal: 3.04s\tremaining: 996ms\n",
      "753:\tlearn: 0.2515029\ttotal: 3.04s\tremaining: 992ms\n",
      "754:\tlearn: 0.2514534\ttotal: 3.04s\tremaining: 988ms\n",
      "755:\tlearn: 0.2513693\ttotal: 3.05s\tremaining: 984ms\n",
      "756:\tlearn: 0.2512753\ttotal: 3.05s\tremaining: 979ms\n",
      "757:\tlearn: 0.2511867\ttotal: 3.05s\tremaining: 975ms\n",
      "758:\tlearn: 0.2511230\ttotal: 3.06s\tremaining: 971ms\n",
      "759:\tlearn: 0.2510607\ttotal: 3.06s\tremaining: 967ms\n",
      "760:\tlearn: 0.2509989\ttotal: 3.07s\tremaining: 963ms\n",
      "761:\tlearn: 0.2509002\ttotal: 3.07s\tremaining: 959ms\n",
      "762:\tlearn: 0.2508329\ttotal: 3.07s\tremaining: 955ms\n",
      "763:\tlearn: 0.2507547\ttotal: 3.08s\tremaining: 950ms\n",
      "764:\tlearn: 0.2506732\ttotal: 3.08s\tremaining: 946ms\n",
      "765:\tlearn: 0.2505333\ttotal: 3.08s\tremaining: 942ms\n",
      "766:\tlearn: 0.2504378\ttotal: 3.09s\tremaining: 938ms\n",
      "767:\tlearn: 0.2503296\ttotal: 3.09s\tremaining: 934ms\n",
      "768:\tlearn: 0.2502318\ttotal: 3.09s\tremaining: 929ms\n",
      "769:\tlearn: 0.2501521\ttotal: 3.1s\tremaining: 925ms\n",
      "770:\tlearn: 0.2500800\ttotal: 3.1s\tremaining: 921ms\n",
      "771:\tlearn: 0.2500068\ttotal: 3.1s\tremaining: 917ms\n",
      "772:\tlearn: 0.2498882\ttotal: 3.11s\tremaining: 913ms\n",
      "773:\tlearn: 0.2497978\ttotal: 3.11s\tremaining: 908ms\n",
      "774:\tlearn: 0.2496577\ttotal: 3.11s\tremaining: 904ms\n",
      "775:\tlearn: 0.2495641\ttotal: 3.12s\tremaining: 900ms\n",
      "776:\tlearn: 0.2494682\ttotal: 3.12s\tremaining: 896ms\n",
      "777:\tlearn: 0.2494052\ttotal: 3.12s\tremaining: 892ms\n",
      "778:\tlearn: 0.2493703\ttotal: 3.13s\tremaining: 887ms\n",
      "779:\tlearn: 0.2492243\ttotal: 3.13s\tremaining: 883ms\n",
      "780:\tlearn: 0.2491630\ttotal: 3.13s\tremaining: 879ms\n",
      "781:\tlearn: 0.2490773\ttotal: 3.14s\tremaining: 875ms\n",
      "782:\tlearn: 0.2490100\ttotal: 3.14s\tremaining: 870ms\n",
      "783:\tlearn: 0.2489431\ttotal: 3.14s\tremaining: 866ms\n",
      "784:\tlearn: 0.2488906\ttotal: 3.15s\tremaining: 862ms\n",
      "785:\tlearn: 0.2488359\ttotal: 3.15s\tremaining: 858ms\n",
      "786:\tlearn: 0.2487290\ttotal: 3.15s\tremaining: 854ms\n",
      "787:\tlearn: 0.2486558\ttotal: 3.16s\tremaining: 849ms\n",
      "788:\tlearn: 0.2485528\ttotal: 3.16s\tremaining: 845ms\n",
      "789:\tlearn: 0.2484844\ttotal: 3.16s\tremaining: 841ms\n",
      "790:\tlearn: 0.2484212\ttotal: 3.17s\tremaining: 837ms\n",
      "791:\tlearn: 0.2483445\ttotal: 3.17s\tremaining: 833ms\n",
      "792:\tlearn: 0.2482520\ttotal: 3.17s\tremaining: 828ms\n",
      "793:\tlearn: 0.2481807\ttotal: 3.18s\tremaining: 824ms\n",
      "794:\tlearn: 0.2480982\ttotal: 3.18s\tremaining: 820ms\n",
      "795:\tlearn: 0.2480346\ttotal: 3.18s\tremaining: 816ms\n",
      "796:\tlearn: 0.2479902\ttotal: 3.19s\tremaining: 812ms\n",
      "797:\tlearn: 0.2478778\ttotal: 3.19s\tremaining: 808ms\n",
      "798:\tlearn: 0.2477938\ttotal: 3.19s\tremaining: 803ms\n",
      "799:\tlearn: 0.2477012\ttotal: 3.21s\tremaining: 802ms\n",
      "800:\tlearn: 0.2476329\ttotal: 3.21s\tremaining: 798ms\n",
      "801:\tlearn: 0.2475589\ttotal: 3.22s\tremaining: 795ms\n",
      "802:\tlearn: 0.2474771\ttotal: 3.22s\tremaining: 791ms\n",
      "803:\tlearn: 0.2473688\ttotal: 3.23s\tremaining: 787ms\n",
      "804:\tlearn: 0.2472095\ttotal: 3.23s\tremaining: 783ms\n",
      "805:\tlearn: 0.2471180\ttotal: 3.23s\tremaining: 778ms\n",
      "806:\tlearn: 0.2470288\ttotal: 3.24s\tremaining: 774ms\n",
      "807:\tlearn: 0.2469556\ttotal: 3.24s\tremaining: 770ms\n",
      "808:\tlearn: 0.2468821\ttotal: 3.24s\tremaining: 766ms\n",
      "809:\tlearn: 0.2467844\ttotal: 3.25s\tremaining: 762ms\n",
      "810:\tlearn: 0.2467178\ttotal: 3.25s\tremaining: 758ms\n",
      "811:\tlearn: 0.2466040\ttotal: 3.25s\tremaining: 754ms\n",
      "812:\tlearn: 0.2465167\ttotal: 3.26s\tremaining: 749ms\n",
      "813:\tlearn: 0.2464414\ttotal: 3.26s\tremaining: 745ms\n",
      "814:\tlearn: 0.2463613\ttotal: 3.26s\tremaining: 741ms\n",
      "815:\tlearn: 0.2462773\ttotal: 3.27s\tremaining: 737ms\n",
      "816:\tlearn: 0.2462021\ttotal: 3.27s\tremaining: 733ms\n",
      "817:\tlearn: 0.2461552\ttotal: 3.27s\tremaining: 729ms\n",
      "818:\tlearn: 0.2460980\ttotal: 3.28s\tremaining: 724ms\n",
      "819:\tlearn: 0.2460491\ttotal: 3.28s\tremaining: 720ms\n",
      "820:\tlearn: 0.2459627\ttotal: 3.28s\tremaining: 716ms\n",
      "821:\tlearn: 0.2459029\ttotal: 3.29s\tremaining: 712ms\n",
      "822:\tlearn: 0.2458424\ttotal: 3.29s\tremaining: 708ms\n",
      "823:\tlearn: 0.2457950\ttotal: 3.29s\tremaining: 704ms\n",
      "824:\tlearn: 0.2457027\ttotal: 3.3s\tremaining: 700ms\n",
      "825:\tlearn: 0.2456405\ttotal: 3.3s\tremaining: 695ms\n",
      "826:\tlearn: 0.2455623\ttotal: 3.3s\tremaining: 691ms\n",
      "827:\tlearn: 0.2453680\ttotal: 3.31s\tremaining: 687ms\n",
      "828:\tlearn: 0.2453009\ttotal: 3.31s\tremaining: 683ms\n",
      "829:\tlearn: 0.2451485\ttotal: 3.31s\tremaining: 679ms\n",
      "830:\tlearn: 0.2450817\ttotal: 3.32s\tremaining: 675ms\n",
      "831:\tlearn: 0.2449921\ttotal: 3.32s\tremaining: 671ms\n",
      "832:\tlearn: 0.2449019\ttotal: 3.33s\tremaining: 667ms\n",
      "833:\tlearn: 0.2448006\ttotal: 3.33s\tremaining: 662ms\n",
      "834:\tlearn: 0.2446887\ttotal: 3.33s\tremaining: 658ms\n",
      "835:\tlearn: 0.2446255\ttotal: 3.33s\tremaining: 654ms\n",
      "836:\tlearn: 0.2445632\ttotal: 3.34s\tremaining: 650ms\n",
      "837:\tlearn: 0.2444418\ttotal: 3.34s\tremaining: 646ms\n",
      "838:\tlearn: 0.2443186\ttotal: 3.35s\tremaining: 642ms\n",
      "839:\tlearn: 0.2442108\ttotal: 3.35s\tremaining: 638ms\n",
      "840:\tlearn: 0.2440798\ttotal: 3.35s\tremaining: 634ms\n",
      "841:\tlearn: 0.2439694\ttotal: 3.35s\tremaining: 630ms\n",
      "842:\tlearn: 0.2439286\ttotal: 3.36s\tremaining: 625ms\n",
      "843:\tlearn: 0.2438420\ttotal: 3.36s\tremaining: 621ms\n",
      "844:\tlearn: 0.2438023\ttotal: 3.37s\tremaining: 617ms\n",
      "845:\tlearn: 0.2437433\ttotal: 3.37s\tremaining: 613ms\n",
      "846:\tlearn: 0.2435950\ttotal: 3.37s\tremaining: 609ms\n",
      "847:\tlearn: 0.2435278\ttotal: 3.37s\tremaining: 605ms\n",
      "848:\tlearn: 0.2433983\ttotal: 3.38s\tremaining: 601ms\n",
      "849:\tlearn: 0.2433055\ttotal: 3.38s\tremaining: 597ms\n",
      "850:\tlearn: 0.2432574\ttotal: 3.38s\tremaining: 593ms\n",
      "851:\tlearn: 0.2431588\ttotal: 3.39s\tremaining: 588ms\n",
      "852:\tlearn: 0.2431036\ttotal: 3.39s\tremaining: 584ms\n",
      "853:\tlearn: 0.2430424\ttotal: 3.39s\tremaining: 580ms\n",
      "854:\tlearn: 0.2429758\ttotal: 3.4s\tremaining: 576ms\n",
      "855:\tlearn: 0.2428748\ttotal: 3.4s\tremaining: 572ms\n",
      "856:\tlearn: 0.2428045\ttotal: 3.4s\tremaining: 568ms\n",
      "857:\tlearn: 0.2427312\ttotal: 3.41s\tremaining: 564ms\n",
      "858:\tlearn: 0.2426271\ttotal: 3.41s\tremaining: 560ms\n",
      "859:\tlearn: 0.2425618\ttotal: 3.42s\tremaining: 556ms\n",
      "860:\tlearn: 0.2424701\ttotal: 3.42s\tremaining: 552ms\n",
      "861:\tlearn: 0.2423622\ttotal: 3.42s\tremaining: 548ms\n",
      "862:\tlearn: 0.2422774\ttotal: 3.42s\tremaining: 544ms\n",
      "863:\tlearn: 0.2422106\ttotal: 3.43s\tremaining: 540ms\n",
      "864:\tlearn: 0.2421578\ttotal: 3.43s\tremaining: 536ms\n",
      "865:\tlearn: 0.2420610\ttotal: 3.44s\tremaining: 532ms\n",
      "866:\tlearn: 0.2420103\ttotal: 3.44s\tremaining: 527ms\n",
      "867:\tlearn: 0.2418967\ttotal: 3.44s\tremaining: 523ms\n",
      "868:\tlearn: 0.2418129\ttotal: 3.44s\tremaining: 519ms\n",
      "869:\tlearn: 0.2417705\ttotal: 3.45s\tremaining: 515ms\n",
      "870:\tlearn: 0.2417035\ttotal: 3.45s\tremaining: 511ms\n",
      "871:\tlearn: 0.2415958\ttotal: 3.46s\tremaining: 507ms\n",
      "872:\tlearn: 0.2415052\ttotal: 3.46s\tremaining: 503ms\n",
      "873:\tlearn: 0.2414458\ttotal: 3.46s\tremaining: 499ms\n",
      "874:\tlearn: 0.2413688\ttotal: 3.46s\tremaining: 495ms\n",
      "875:\tlearn: 0.2412981\ttotal: 3.47s\tremaining: 491ms\n",
      "876:\tlearn: 0.2412368\ttotal: 3.47s\tremaining: 487ms\n",
      "877:\tlearn: 0.2411337\ttotal: 3.48s\tremaining: 483ms\n",
      "878:\tlearn: 0.2410256\ttotal: 3.48s\tremaining: 479ms\n",
      "879:\tlearn: 0.2409745\ttotal: 3.48s\tremaining: 475ms\n",
      "880:\tlearn: 0.2408766\ttotal: 3.48s\tremaining: 471ms\n",
      "881:\tlearn: 0.2407887\ttotal: 3.49s\tremaining: 467ms\n",
      "882:\tlearn: 0.2407616\ttotal: 3.49s\tremaining: 463ms\n",
      "883:\tlearn: 0.2406887\ttotal: 3.5s\tremaining: 459ms\n",
      "884:\tlearn: 0.2406077\ttotal: 3.5s\tremaining: 455ms\n",
      "885:\tlearn: 0.2405415\ttotal: 3.5s\tremaining: 451ms\n",
      "886:\tlearn: 0.2404624\ttotal: 3.51s\tremaining: 447ms\n",
      "887:\tlearn: 0.2403490\ttotal: 3.51s\tremaining: 443ms\n",
      "888:\tlearn: 0.2402968\ttotal: 3.51s\tremaining: 439ms\n",
      "889:\tlearn: 0.2402243\ttotal: 3.52s\tremaining: 435ms\n",
      "890:\tlearn: 0.2401107\ttotal: 3.52s\tremaining: 431ms\n",
      "891:\tlearn: 0.2400335\ttotal: 3.52s\tremaining: 427ms\n",
      "892:\tlearn: 0.2399819\ttotal: 3.53s\tremaining: 423ms\n",
      "893:\tlearn: 0.2398981\ttotal: 3.53s\tremaining: 419ms\n",
      "894:\tlearn: 0.2398252\ttotal: 3.53s\tremaining: 415ms\n",
      "895:\tlearn: 0.2397373\ttotal: 3.54s\tremaining: 411ms\n",
      "896:\tlearn: 0.2396452\ttotal: 3.54s\tremaining: 407ms\n",
      "897:\tlearn: 0.2395455\ttotal: 3.54s\tremaining: 403ms\n",
      "898:\tlearn: 0.2394607\ttotal: 3.55s\tremaining: 399ms\n",
      "899:\tlearn: 0.2393709\ttotal: 3.55s\tremaining: 395ms\n",
      "900:\tlearn: 0.2393050\ttotal: 3.55s\tremaining: 390ms\n",
      "901:\tlearn: 0.2391874\ttotal: 3.56s\tremaining: 386ms\n",
      "902:\tlearn: 0.2390979\ttotal: 3.56s\tremaining: 382ms\n",
      "903:\tlearn: 0.2390376\ttotal: 3.56s\tremaining: 378ms\n",
      "904:\tlearn: 0.2389709\ttotal: 3.57s\tremaining: 375ms\n",
      "905:\tlearn: 0.2389129\ttotal: 3.57s\tremaining: 371ms\n",
      "906:\tlearn: 0.2388236\ttotal: 3.58s\tremaining: 367ms\n",
      "907:\tlearn: 0.2387456\ttotal: 3.58s\tremaining: 363ms\n",
      "908:\tlearn: 0.2387149\ttotal: 3.58s\tremaining: 359ms\n",
      "909:\tlearn: 0.2386315\ttotal: 3.58s\tremaining: 355ms\n",
      "910:\tlearn: 0.2385697\ttotal: 3.59s\tremaining: 351ms\n",
      "911:\tlearn: 0.2384837\ttotal: 3.59s\tremaining: 347ms\n",
      "912:\tlearn: 0.2384151\ttotal: 3.6s\tremaining: 343ms\n",
      "913:\tlearn: 0.2383102\ttotal: 3.6s\tremaining: 339ms\n",
      "914:\tlearn: 0.2382618\ttotal: 3.6s\tremaining: 335ms\n",
      "915:\tlearn: 0.2381626\ttotal: 3.6s\tremaining: 331ms\n",
      "916:\tlearn: 0.2381089\ttotal: 3.61s\tremaining: 327ms\n",
      "917:\tlearn: 0.2380536\ttotal: 3.61s\tremaining: 323ms\n",
      "918:\tlearn: 0.2379451\ttotal: 3.61s\tremaining: 319ms\n",
      "919:\tlearn: 0.2378967\ttotal: 3.62s\tremaining: 315ms\n",
      "920:\tlearn: 0.2378490\ttotal: 3.62s\tremaining: 311ms\n",
      "921:\tlearn: 0.2377801\ttotal: 3.63s\tremaining: 307ms\n",
      "922:\tlearn: 0.2377165\ttotal: 3.63s\tremaining: 303ms\n",
      "923:\tlearn: 0.2376454\ttotal: 3.63s\tremaining: 299ms\n",
      "924:\tlearn: 0.2375539\ttotal: 3.64s\tremaining: 295ms\n",
      "925:\tlearn: 0.2374648\ttotal: 3.64s\tremaining: 291ms\n",
      "926:\tlearn: 0.2373949\ttotal: 3.64s\tremaining: 287ms\n",
      "927:\tlearn: 0.2373262\ttotal: 3.65s\tremaining: 283ms\n",
      "928:\tlearn: 0.2372788\ttotal: 3.65s\tremaining: 279ms\n",
      "929:\tlearn: 0.2371506\ttotal: 3.65s\tremaining: 275ms\n",
      "930:\tlearn: 0.2370557\ttotal: 3.66s\tremaining: 271ms\n",
      "931:\tlearn: 0.2370271\ttotal: 3.66s\tremaining: 267ms\n",
      "932:\tlearn: 0.2369577\ttotal: 3.66s\tremaining: 263ms\n",
      "933:\tlearn: 0.2368967\ttotal: 3.67s\tremaining: 259ms\n",
      "934:\tlearn: 0.2368189\ttotal: 3.67s\tremaining: 255ms\n",
      "935:\tlearn: 0.2367158\ttotal: 3.67s\tremaining: 251ms\n",
      "936:\tlearn: 0.2366602\ttotal: 3.68s\tremaining: 247ms\n",
      "937:\tlearn: 0.2366191\ttotal: 3.68s\tremaining: 243ms\n",
      "938:\tlearn: 0.2365709\ttotal: 3.69s\tremaining: 239ms\n",
      "939:\tlearn: 0.2365173\ttotal: 3.69s\tremaining: 235ms\n",
      "940:\tlearn: 0.2364345\ttotal: 3.69s\tremaining: 232ms\n",
      "941:\tlearn: 0.2363221\ttotal: 3.69s\tremaining: 228ms\n",
      "942:\tlearn: 0.2361824\ttotal: 3.7s\tremaining: 224ms\n",
      "943:\tlearn: 0.2361435\ttotal: 3.7s\tremaining: 220ms\n",
      "944:\tlearn: 0.2360862\ttotal: 3.71s\tremaining: 216ms\n",
      "945:\tlearn: 0.2360463\ttotal: 3.71s\tremaining: 212ms\n",
      "946:\tlearn: 0.2359557\ttotal: 3.71s\tremaining: 208ms\n",
      "947:\tlearn: 0.2358862\ttotal: 3.72s\tremaining: 204ms\n",
      "948:\tlearn: 0.2358177\ttotal: 3.72s\tremaining: 200ms\n",
      "949:\tlearn: 0.2357722\ttotal: 3.72s\tremaining: 196ms\n",
      "950:\tlearn: 0.2356677\ttotal: 3.73s\tremaining: 192ms\n",
      "951:\tlearn: 0.2356262\ttotal: 3.73s\tremaining: 188ms\n",
      "952:\tlearn: 0.2355166\ttotal: 3.73s\tremaining: 184ms\n",
      "953:\tlearn: 0.2354516\ttotal: 3.74s\tremaining: 180ms\n",
      "954:\tlearn: 0.2353635\ttotal: 3.74s\tremaining: 176ms\n",
      "955:\tlearn: 0.2353366\ttotal: 3.74s\tremaining: 172ms\n",
      "956:\tlearn: 0.2352499\ttotal: 3.75s\tremaining: 168ms\n",
      "957:\tlearn: 0.2351693\ttotal: 3.75s\tremaining: 164ms\n",
      "958:\tlearn: 0.2351005\ttotal: 3.75s\tremaining: 161ms\n",
      "959:\tlearn: 0.2350109\ttotal: 3.76s\tremaining: 157ms\n",
      "960:\tlearn: 0.2349104\ttotal: 3.76s\tremaining: 153ms\n",
      "961:\tlearn: 0.2348546\ttotal: 3.76s\tremaining: 149ms\n",
      "962:\tlearn: 0.2347740\ttotal: 3.77s\tremaining: 145ms\n",
      "963:\tlearn: 0.2346760\ttotal: 3.77s\tremaining: 141ms\n",
      "964:\tlearn: 0.2345817\ttotal: 3.77s\tremaining: 137ms\n",
      "965:\tlearn: 0.2345129\ttotal: 3.78s\tremaining: 133ms\n",
      "966:\tlearn: 0.2344309\ttotal: 3.78s\tremaining: 129ms\n",
      "967:\tlearn: 0.2343773\ttotal: 3.79s\tremaining: 125ms\n",
      "968:\tlearn: 0.2342790\ttotal: 3.79s\tremaining: 121ms\n",
      "969:\tlearn: 0.2342373\ttotal: 3.79s\tremaining: 117ms\n",
      "970:\tlearn: 0.2341401\ttotal: 3.8s\tremaining: 113ms\n",
      "971:\tlearn: 0.2340574\ttotal: 3.8s\tremaining: 109ms\n",
      "972:\tlearn: 0.2339849\ttotal: 3.8s\tremaining: 106ms\n",
      "973:\tlearn: 0.2338901\ttotal: 3.81s\tremaining: 102ms\n",
      "974:\tlearn: 0.2338157\ttotal: 3.81s\tremaining: 97.7ms\n",
      "975:\tlearn: 0.2337562\ttotal: 3.81s\tremaining: 93.8ms\n",
      "976:\tlearn: 0.2336577\ttotal: 3.82s\tremaining: 89.9ms\n",
      "977:\tlearn: 0.2335346\ttotal: 3.82s\tremaining: 85.9ms\n",
      "978:\tlearn: 0.2334427\ttotal: 3.82s\tremaining: 82ms\n",
      "979:\tlearn: 0.2333674\ttotal: 3.83s\tremaining: 78.1ms\n",
      "980:\tlearn: 0.2332708\ttotal: 3.83s\tremaining: 74.2ms\n",
      "981:\tlearn: 0.2331105\ttotal: 3.84s\tremaining: 70.4ms\n",
      "982:\tlearn: 0.2329945\ttotal: 3.85s\tremaining: 66.5ms\n",
      "983:\tlearn: 0.2329005\ttotal: 3.85s\tremaining: 62.6ms\n",
      "984:\tlearn: 0.2328385\ttotal: 3.86s\tremaining: 58.7ms\n",
      "985:\tlearn: 0.2327448\ttotal: 3.86s\tremaining: 54.8ms\n",
      "986:\tlearn: 0.2326781\ttotal: 3.86s\tremaining: 50.9ms\n",
      "987:\tlearn: 0.2326374\ttotal: 3.87s\tremaining: 47ms\n",
      "988:\tlearn: 0.2325288\ttotal: 3.87s\tremaining: 43.1ms\n",
      "989:\tlearn: 0.2324649\ttotal: 3.87s\tremaining: 39.1ms\n",
      "990:\tlearn: 0.2323777\ttotal: 3.88s\tremaining: 35.2ms\n",
      "991:\tlearn: 0.2323180\ttotal: 3.88s\tremaining: 31.3ms\n",
      "992:\tlearn: 0.2322471\ttotal: 3.88s\tremaining: 27.4ms\n",
      "993:\tlearn: 0.2321939\ttotal: 3.89s\tremaining: 23.5ms\n",
      "994:\tlearn: 0.2321154\ttotal: 3.89s\tremaining: 19.6ms\n",
      "995:\tlearn: 0.2320312\ttotal: 3.9s\tremaining: 15.6ms\n",
      "996:\tlearn: 0.2319241\ttotal: 3.9s\tremaining: 11.7ms\n",
      "997:\tlearn: 0.2318608\ttotal: 3.9s\tremaining: 7.82ms\n",
      "998:\tlearn: 0.2318202\ttotal: 3.9s\tremaining: 3.91ms\n",
      "999:\tlearn: 0.2317486\ttotal: 3.91s\tremaining: 0us\n"
     ]
    },
    {
     "data": {
      "text/plain": "Pipeline(steps=[('features',\n                 FeatureUnion(transformer_list=[('Geography',\n                                                 Pipeline(steps=[('selector',\n                                                                  FeatureSelector(column='Geography')),\n                                                                 ('ohe',\n                                                                  OHEEncoder(key='Geography'))])),\n                                                ('Gender',\n                                                 Pipeline(steps=[('selector',\n                                                                  FeatureSelector(column='Gender')),\n                                                                 ('ohe',\n                                                                  OHEEncoder(key='Gender'))])),\n                                                ('Tenure',\n                                                 Pipeline(steps=[('selector',\n                                                                  FeatureSelector(column='Tenu...\n                                                                  NumberSelector(key='Age'))])),\n                                                ('Balance',\n                                                 Pipeline(steps=[('selector',\n                                                                  NumberSelector(key='Balance'))])),\n                                                ('NumOfProducts',\n                                                 Pipeline(steps=[('selector',\n                                                                  NumberSelector(key='NumOfProducts'))])),\n                                                ('EstimatedSalary',\n                                                 Pipeline(steps=[('selector',\n                                                                  NumberSelector(key='EstimatedSalary'))]))])),\n                ('classifier',\n                 <catboost.core.CatBoostClassifier object at 0x00000116A32CE200>)])"
     },
     "execution_count": 39,
     "metadata": {},
     "output_type": "execute_result"
    }
   ],
   "source": [
    "pipeline.fit(X_train, y_train)"
   ],
   "metadata": {
    "collapsed": false,
    "pycharm": {
     "name": "#%%\n"
    }
   }
  },
  {
   "cell_type": "code",
   "execution_count": 40,
   "outputs": [
    {
     "data": {
      "text/plain": "array([0.42722112, 0.22861428, 0.11251968, 0.04714316, 0.0226131 ,\n       0.85767598, 0.01987434, 0.09762173, 0.18946121, 0.8950378 ])"
     },
     "execution_count": 40,
     "metadata": {},
     "output_type": "execute_result"
    }
   ],
   "source": [
    "preds = pipeline.predict_proba(X_test)[:, 1]\n",
    "preds[:10]"
   ],
   "metadata": {
    "collapsed": false,
    "pycharm": {
     "name": "#%%\n"
    }
   }
  },
  {
   "cell_type": "code",
   "execution_count": 41,
   "outputs": [
    {
     "name": "stdout",
     "output_type": "stream",
     "text": [
      "Best Threshold=0.325354, F-Score=0.644, Precision=0.616, Recall=0.674\n"
     ]
    }
   ],
   "source": [
    "precision, recall, thresholds = precision_recall_curve(y_test, preds)\n",
    "\n",
    "fscore = (2 * precision * recall) / (precision + recall)\n",
    "# locate the index of the largest f score\n",
    "ix = np.argmax(fscore)\n",
    "print('Best Threshold=%f, F-Score=%.3f, Precision=%.3f, Recall=%.3f' % (thresholds[ix],\n",
    "                                                                        fscore[ix],\n",
    "                                                                        precision[ix],\n",
    "                                                                        recall[ix]))"
   ],
   "metadata": {
    "collapsed": false,
    "pycharm": {
     "name": "#%%\n"
    }
   }
  },
  {
   "cell_type": "code",
   "execution_count": 42,
   "outputs": [
    {
     "name": "stdout",
     "output_type": "stream",
     "text": [
      "Confusion matrix, without normalization\n",
      "[[1777  214]\n",
      " [ 167  342]]\n"
     ]
    },
    {
     "data": {
      "text/plain": "<Figure size 1000x800 with 2 Axes>",
      "image/png": "[encoded data removed]"
     },
     "metadata": {},
     "output_type": "display_data"
    }
   ],
   "source": [
    "#мы уже нашли ранее \"оптимальный\" порог, когда максимизировали f_score\n",
    "font = {'size' : 15}\n",
    "\n",
    "plt.rc('font', **font)\n",
    "\n",
    "cnf_matrix = confusion_matrix(y_test, preds>thresholds[ix])\n",
    "plt.figure(figsize=(10, 8))\n",
    "plot_confusion_matrix(cnf_matrix, classes=['NonChurn', 'Churn'],\n",
    "                      title='Confusion matrix')\n",
    "plt.savefig(\"conf_matrix.png\")\n",
    "plt.show()"
   ],
   "metadata": {
    "collapsed": false,
    "pycharm": {
     "name": "#%%\n"
    }
   }
  },
  {
   "cell_type": "code",
   "execution_count": 43,
   "outputs": [],
   "source": [
    "params = {'depth' : [4, 5, 6, 7],\n",
    "          'learning_rate' : [0.01, 0.02, 0.03, 0.04],\n",
    "          'iterations' : [10, 20, 30, 40]}"
   ],
   "metadata": {
    "collapsed": false,
    "pycharm": {
     "name": "#%%\n"
    }
   }
  },
  {
   "cell_type": "code",
   "execution_count": 45,
   "outputs": [
    {
     "name": "stderr",
     "output_type": "stream",
     "text": [
      "C:\\Users\\ilburtsev\\Documents\\ML_business\\venv\\lib\\site-packages\\sklearn\\model_selection\\_validation.py:372: FitFailedWarning: \n",
      "384 fits failed out of a total of 384.\n",
      "The score on these train-test partitions for these parameters will be set to nan.\n",
      "If these failures are not expected, you can try to debug them by setting error_score='raise'.\n",
      "\n",
      "Below are more details about the failures:\n",
      "--------------------------------------------------------------------------------\n",
      "64 fits failed with the following error:\n",
      "Traceback (most recent call last):\n",
      "  File \"_catboost.pyx\", line 2286, in _catboost.get_float_feature\n",
      "  File \"_catboost.pyx\", line 1139, in _catboost._FloatOrNan\n",
      "  File \"_catboost.pyx\", line 951, in _catboost._FloatOrNanFromString\n",
      "TypeError: Cannot convert 'b'Sal'' to float\n",
      "\n",
      "During handling of the above exception, another exception occurred:\n",
      "\n",
      "Traceback (most recent call last):\n",
      "  File \"C:\\Users\\ilburtsev\\Documents\\ML_business\\venv\\lib\\site-packages\\sklearn\\model_selection\\_validation.py\", line 680, in _fit_and_score\n",
      "    estimator.fit(X_train, y_train, **fit_params)\n",
      "  File \"C:\\Users\\ilburtsev\\Documents\\ML_business\\venv\\lib\\site-packages\\catboost\\core.py\", line 5128, in fit\n",
      "    self._fit(X, y, cat_features, text_features, embedding_features, None, sample_weight, None, None, None, None, baseline, use_best_model,\n",
      "  File \"C:\\Users\\ilburtsev\\Documents\\ML_business\\venv\\lib\\site-packages\\catboost\\core.py\", line 2339, in _fit\n",
      "    train_params = self._prepare_train_params(\n",
      "  File \"C:\\Users\\ilburtsev\\Documents\\ML_business\\venv\\lib\\site-packages\\catboost\\core.py\", line 2220, in _prepare_train_params\n",
      "    train_pool = _build_train_pool(X, y, cat_features, text_features, embedding_features, pairs,\n",
      "  File \"C:\\Users\\ilburtsev\\Documents\\ML_business\\venv\\lib\\site-packages\\catboost\\core.py\", line 1438, in _build_train_pool\n",
      "    train_pool = Pool(X, y, cat_features=cat_features, text_features=text_features, embedding_features=embedding_features, pairs=pairs, weight=sample_weight, group_id=group_id,\n",
      "  File \"C:\\Users\\ilburtsev\\Documents\\ML_business\\venv\\lib\\site-packages\\catboost\\core.py\", line 792, in __init__\n",
      "    self._init(data, label, cat_features, text_features, embedding_features, embedding_features_data, pairs, weight,\n",
      "  File \"C:\\Users\\ilburtsev\\Documents\\ML_business\\venv\\lib\\site-packages\\catboost\\core.py\", line 1419, in _init\n",
      "    self._init_pool(data, label, cat_features, text_features, embedding_features, embedding_features_data, pairs, weight,\n",
      "  File \"_catboost.pyx\", line 3954, in _catboost._PoolBase._init_pool\n",
      "  File \"_catboost.pyx\", line 4004, in _catboost._PoolBase._init_pool\n",
      "  File \"_catboost.pyx\", line 3820, in _catboost._PoolBase._init_features_order_layout_pool\n",
      "  File \"_catboost.pyx\", line 2786, in _catboost._set_features_order_data_pd_data_frame\n",
      "  File \"_catboost.pyx\", line 2327, in _catboost.create_num_factor_data\n",
      "  File \"_catboost.pyx\", line 2288, in _catboost.get_float_feature\n",
      "_catboost.CatBoostError: Bad value for num_feature[non_default_doc_idx=0,feature_idx=2]=\"Sal\": Cannot convert 'b'Sal'' to float\n",
      "\n",
      "--------------------------------------------------------------------------------\n",
      "320 fits failed with the following error:\n",
      "Traceback (most recent call last):\n",
      "  File \"_catboost.pyx\", line 2286, in _catboost.get_float_feature\n",
      "  File \"_catboost.pyx\", line 1139, in _catboost._FloatOrNan\n",
      "  File \"_catboost.pyx\", line 951, in _catboost._FloatOrNanFromString\n",
      "TypeError: Cannot convert 'b'Daniels'' to float\n",
      "\n",
      "During handling of the above exception, another exception occurred:\n",
      "\n",
      "Traceback (most recent call last):\n",
      "  File \"C:\\Users\\ilburtsev\\Documents\\ML_business\\venv\\lib\\site-packages\\sklearn\\model_selection\\_validation.py\", line 680, in _fit_and_score\n",
      "    estimator.fit(X_train, y_train, **fit_params)\n",
      "  File \"C:\\Users\\ilburtsev\\Documents\\ML_business\\venv\\lib\\site-packages\\catboost\\core.py\", line 5128, in fit\n",
      "    self._fit(X, y, cat_features, text_features, embedding_features, None, sample_weight, None, None, None, None, baseline, use_best_model,\n",
      "  File \"C:\\Users\\ilburtsev\\Documents\\ML_business\\venv\\lib\\site-packages\\catboost\\core.py\", line 2339, in _fit\n",
      "    train_params = self._prepare_train_params(\n",
      "  File \"C:\\Users\\ilburtsev\\Documents\\ML_business\\venv\\lib\\site-packages\\catboost\\core.py\", line 2220, in _prepare_train_params\n",
      "    train_pool = _build_train_pool(X, y, cat_features, text_features, embedding_features, pairs,\n",
      "  File \"C:\\Users\\ilburtsev\\Documents\\ML_business\\venv\\lib\\site-packages\\catboost\\core.py\", line 1438, in _build_train_pool\n",
      "    train_pool = Pool(X, y, cat_features=cat_features, text_features=text_features, embedding_features=embedding_features, pairs=pairs, weight=sample_weight, group_id=group_id,\n",
      "  File \"C:\\Users\\ilburtsev\\Documents\\ML_business\\venv\\lib\\site-packages\\catboost\\core.py\", line 792, in __init__\n",
      "    self._init(data, label, cat_features, text_features, embedding_features, embedding_features_data, pairs, weight,\n",
      "  File \"C:\\Users\\ilburtsev\\Documents\\ML_business\\venv\\lib\\site-packages\\catboost\\core.py\", line 1419, in _init\n",
      "    self._init_pool(data, label, cat_features, text_features, embedding_features, embedding_features_data, pairs, weight,\n",
      "  File \"_catboost.pyx\", line 3954, in _catboost._PoolBase._init_pool\n",
      "  File \"_catboost.pyx\", line 4004, in _catboost._PoolBase._init_pool\n",
      "  File \"_catboost.pyx\", line 3820, in _catboost._PoolBase._init_features_order_layout_pool\n",
      "  File \"_catboost.pyx\", line 2786, in _catboost._set_features_order_data_pd_data_frame\n",
      "  File \"_catboost.pyx\", line 2327, in _catboost.create_num_factor_data\n",
      "  File \"_catboost.pyx\", line 2288, in _catboost.get_float_feature\n",
      "_catboost.CatBoostError: Bad value for num_feature[non_default_doc_idx=0,feature_idx=2]=\"Daniels\": Cannot convert 'b'Daniels'' to float\n",
      "\n",
      "  warnings.warn(some_fits_failed_message, FitFailedWarning)\n",
      "C:\\Users\\ilburtsev\\Documents\\ML_business\\venv\\lib\\site-packages\\sklearn\\model_selection\\_search.py:969: UserWarning: One or more of the test scores are non-finite: [nan nan nan nan nan nan nan nan nan nan nan nan nan nan nan nan nan nan\n",
      " nan nan nan nan nan nan nan nan nan nan nan nan nan nan nan nan nan nan\n",
      " nan nan nan nan nan nan nan nan nan nan nan nan nan nan nan nan nan nan\n",
      " nan nan nan nan nan nan nan nan nan nan]\n",
      "  warnings.warn(\n"
     ]
    }
   ],
   "source": [
    "from sklearn.model_selection import GridSearchCV\n",
    "\n",
    "grid = GridSearchCV(estimator=CatBoostClassifier(),\n",
    "                    param_grid=params,\n",
    "                    cv=6,\n",
    "                    refit=False)\n",
    "\n",
    "search = grid.fit(X_train, y_train)"
   ],
   "metadata": {
    "collapsed": false,
    "pycharm": {
     "name": "#%%\n"
    }
   }
  },
  {
   "cell_type": "code",
   "execution_count": 46,
   "outputs": [],
   "source": [
    "CBC = CatBoostClassifier()"
   ],
   "metadata": {
    "collapsed": false,
    "pycharm": {
     "name": "#%%\n"
    }
   }
  },
  {
   "cell_type": "code",
   "execution_count": 47,
   "outputs": [],
   "source": [
    " parameters = {'depth'         : [4,5,6,7,8,9, 10],\n",
    "                 'learning_rate' : [0.01,0.02,0.03,0.04],\n",
    "                  'iterations'    : [10, 20,30,40,50,60,70,80,90, 100]\n",
    "                 }"
   ],
   "metadata": {
    "collapsed": false,
    "pycharm": {
     "name": "#%%\n"
    }
   }
  },
  {
   "cell_type": "code",
   "execution_count": 48,
   "outputs": [
    {
     "name": "stderr",
     "output_type": "stream",
     "text": [
      "C:\\Users\\ilburtsev\\Documents\\ML_business\\venv\\lib\\site-packages\\sklearn\\model_selection\\_validation.py:372: FitFailedWarning: \n",
      "560 fits failed out of a total of 560.\n",
      "The score on these train-test partitions for these parameters will be set to nan.\n",
      "If these failures are not expected, you can try to debug them by setting error_score='raise'.\n",
      "\n",
      "Below are more details about the failures:\n",
      "--------------------------------------------------------------------------------\n",
      "280 fits failed with the following error:\n",
      "Traceback (most recent call last):\n",
      "  File \"_catboost.pyx\", line 2286, in _catboost.get_float_feature\n",
      "  File \"_catboost.pyx\", line 1139, in _catboost._FloatOrNan\n",
      "  File \"_catboost.pyx\", line 951, in _catboost._FloatOrNanFromString\n",
      "TypeError: Cannot convert 'b'Milanesi'' to float\n",
      "\n",
      "During handling of the above exception, another exception occurred:\n",
      "\n",
      "Traceback (most recent call last):\n",
      "  File \"C:\\Users\\ilburtsev\\Documents\\ML_business\\venv\\lib\\site-packages\\sklearn\\model_selection\\_validation.py\", line 680, in _fit_and_score\n",
      "    estimator.fit(X_train, y_train, **fit_params)\n",
      "  File \"C:\\Users\\ilburtsev\\Documents\\ML_business\\venv\\lib\\site-packages\\catboost\\core.py\", line 5128, in fit\n",
      "    self._fit(X, y, cat_features, text_features, embedding_features, None, sample_weight, None, None, None, None, baseline, use_best_model,\n",
      "  File \"C:\\Users\\ilburtsev\\Documents\\ML_business\\venv\\lib\\site-packages\\catboost\\core.py\", line 2339, in _fit\n",
      "    train_params = self._prepare_train_params(\n",
      "  File \"C:\\Users\\ilburtsev\\Documents\\ML_business\\venv\\lib\\site-packages\\catboost\\core.py\", line 2220, in _prepare_train_params\n",
      "    train_pool = _build_train_pool(X, y, cat_features, text_features, embedding_features, pairs,\n",
      "  File \"C:\\Users\\ilburtsev\\Documents\\ML_business\\venv\\lib\\site-packages\\catboost\\core.py\", line 1438, in _build_train_pool\n",
      "    train_pool = Pool(X, y, cat_features=cat_features, text_features=text_features, embedding_features=embedding_features, pairs=pairs, weight=sample_weight, group_id=group_id,\n",
      "  File \"C:\\Users\\ilburtsev\\Documents\\ML_business\\venv\\lib\\site-packages\\catboost\\core.py\", line 792, in __init__\n",
      "    self._init(data, label, cat_features, text_features, embedding_features, embedding_features_data, pairs, weight,\n",
      "  File \"C:\\Users\\ilburtsev\\Documents\\ML_business\\venv\\lib\\site-packages\\catboost\\core.py\", line 1419, in _init\n",
      "    self._init_pool(data, label, cat_features, text_features, embedding_features, embedding_features_data, pairs, weight,\n",
      "  File \"_catboost.pyx\", line 3954, in _catboost._PoolBase._init_pool\n",
      "  File \"_catboost.pyx\", line 4004, in _catboost._PoolBase._init_pool\n",
      "  File \"_catboost.pyx\", line 3820, in _catboost._PoolBase._init_features_order_layout_pool\n",
      "  File \"_catboost.pyx\", line 2786, in _catboost._set_features_order_data_pd_data_frame\n",
      "  File \"_catboost.pyx\", line 2327, in _catboost.create_num_factor_data\n",
      "  File \"_catboost.pyx\", line 2288, in _catboost.get_float_feature\n",
      "_catboost.CatBoostError: Bad value for num_feature[non_default_doc_idx=0,feature_idx=2]=\"Milanesi\": Cannot convert 'b'Milanesi'' to float\n",
      "\n",
      "--------------------------------------------------------------------------------\n",
      "280 fits failed with the following error:\n",
      "Traceback (most recent call last):\n",
      "  File \"_catboost.pyx\", line 2286, in _catboost.get_float_feature\n",
      "  File \"_catboost.pyx\", line 1139, in _catboost._FloatOrNan\n",
      "  File \"_catboost.pyx\", line 951, in _catboost._FloatOrNanFromString\n",
      "TypeError: Cannot convert 'b'Daniels'' to float\n",
      "\n",
      "During handling of the above exception, another exception occurred:\n",
      "\n",
      "Traceback (most recent call last):\n",
      "  File \"C:\\Users\\ilburtsev\\Documents\\ML_business\\venv\\lib\\site-packages\\sklearn\\model_selection\\_validation.py\", line 680, in _fit_and_score\n",
      "    estimator.fit(X_train, y_train, **fit_params)\n",
      "  File \"C:\\Users\\ilburtsev\\Documents\\ML_business\\venv\\lib\\site-packages\\catboost\\core.py\", line 5128, in fit\n",
      "    self._fit(X, y, cat_features, text_features, embedding_features, None, sample_weight, None, None, None, None, baseline, use_best_model,\n",
      "  File \"C:\\Users\\ilburtsev\\Documents\\ML_business\\venv\\lib\\site-packages\\catboost\\core.py\", line 2339, in _fit\n",
      "    train_params = self._prepare_train_params(\n",
      "  File \"C:\\Users\\ilburtsev\\Documents\\ML_business\\venv\\lib\\site-packages\\catboost\\core.py\", line 2220, in _prepare_train_params\n",
      "    train_pool = _build_train_pool(X, y, cat_features, text_features, embedding_features, pairs,\n",
      "  File \"C:\\Users\\ilburtsev\\Documents\\ML_business\\venv\\lib\\site-packages\\catboost\\core.py\", line 1438, in _build_train_pool\n",
      "    train_pool = Pool(X, y, cat_features=cat_features, text_features=text_features, embedding_features=embedding_features, pairs=pairs, weight=sample_weight, group_id=group_id,\n",
      "  File \"C:\\Users\\ilburtsev\\Documents\\ML_business\\venv\\lib\\site-packages\\catboost\\core.py\", line 792, in __init__\n",
      "    self._init(data, label, cat_features, text_features, embedding_features, embedding_features_data, pairs, weight,\n",
      "  File \"C:\\Users\\ilburtsev\\Documents\\ML_business\\venv\\lib\\site-packages\\catboost\\core.py\", line 1419, in _init\n",
      "    self._init_pool(data, label, cat_features, text_features, embedding_features, embedding_features_data, pairs, weight,\n",
      "  File \"_catboost.pyx\", line 3954, in _catboost._PoolBase._init_pool\n",
      "  File \"_catboost.pyx\", line 4004, in _catboost._PoolBase._init_pool\n",
      "  File \"_catboost.pyx\", line 3820, in _catboost._PoolBase._init_features_order_layout_pool\n",
      "  File \"_catboost.pyx\", line 2786, in _catboost._set_features_order_data_pd_data_frame\n",
      "  File \"_catboost.pyx\", line 2327, in _catboost.create_num_factor_data\n",
      "  File \"_catboost.pyx\", line 2288, in _catboost.get_float_feature\n",
      "_catboost.CatBoostError: Bad value for num_feature[non_default_doc_idx=0,feature_idx=2]=\"Daniels\": Cannot convert 'b'Daniels'' to float\n",
      "\n",
      "  warnings.warn(some_fits_failed_message, FitFailedWarning)\n",
      "C:\\Users\\ilburtsev\\Documents\\ML_business\\venv\\lib\\site-packages\\sklearn\\model_selection\\_search.py:969: UserWarning: One or more of the test scores are non-finite: [nan nan nan nan nan nan nan nan nan nan nan nan nan nan nan nan nan nan\n",
      " nan nan nan nan nan nan nan nan nan nan nan nan nan nan nan nan nan nan\n",
      " nan nan nan nan nan nan nan nan nan nan nan nan nan nan nan nan nan nan\n",
      " nan nan nan nan nan nan nan nan nan nan nan nan nan nan nan nan nan nan\n",
      " nan nan nan nan nan nan nan nan nan nan nan nan nan nan nan nan nan nan\n",
      " nan nan nan nan nan nan nan nan nan nan nan nan nan nan nan nan nan nan\n",
      " nan nan nan nan nan nan nan nan nan nan nan nan nan nan nan nan nan nan\n",
      " nan nan nan nan nan nan nan nan nan nan nan nan nan nan nan nan nan nan\n",
      " nan nan nan nan nan nan nan nan nan nan nan nan nan nan nan nan nan nan\n",
      " nan nan nan nan nan nan nan nan nan nan nan nan nan nan nan nan nan nan\n",
      " nan nan nan nan nan nan nan nan nan nan nan nan nan nan nan nan nan nan\n",
      " nan nan nan nan nan nan nan nan nan nan nan nan nan nan nan nan nan nan\n",
      " nan nan nan nan nan nan nan nan nan nan nan nan nan nan nan nan nan nan\n",
      " nan nan nan nan nan nan nan nan nan nan nan nan nan nan nan nan nan nan\n",
      " nan nan nan nan nan nan nan nan nan nan nan nan nan nan nan nan nan nan\n",
      " nan nan nan nan nan nan nan nan nan nan]\n",
      "  warnings.warn(\n"
     ]
    },
    {
     "ename": "CatBoostError",
     "evalue": "Bad value for num_feature[non_default_doc_idx=0,feature_idx=2]=\"Daniels\": Cannot convert 'b'Daniels'' to float",
     "output_type": "error",
     "traceback": [
      "\u001B[1;31m---------------------------------------------------------------------------\u001B[0m",
      "\u001B[1;31mTypeError\u001B[0m                                 Traceback (most recent call last)",
      "File \u001B[1;32m_catboost.pyx:2286\u001B[0m, in \u001B[0;36m_catboost.get_float_feature\u001B[1;34m()\u001B[0m\n",
      "File \u001B[1;32m_catboost.pyx:1139\u001B[0m, in \u001B[0;36m_catboost._FloatOrNan\u001B[1;34m()\u001B[0m\n",
      "File \u001B[1;32m_catboost.pyx:951\u001B[0m, in \u001B[0;36m_catboost._FloatOrNanFromString\u001B[1;34m()\u001B[0m\n",
      "\u001B[1;31mTypeError\u001B[0m: Cannot convert 'b'Daniels'' to float",
      "\nDuring handling of the above exception, another exception occurred:\n",
      "\u001B[1;31mCatBoostError\u001B[0m                             Traceback (most recent call last)",
      "Cell \u001B[1;32mIn [48], line 2\u001B[0m\n\u001B[0;32m      1\u001B[0m Grid_CBC \u001B[38;5;241m=\u001B[39m GridSearchCV(estimator\u001B[38;5;241m=\u001B[39mCBC, param_grid \u001B[38;5;241m=\u001B[39m parameters, cv \u001B[38;5;241m=\u001B[39m \u001B[38;5;241m2\u001B[39m, n_jobs\u001B[38;5;241m=\u001B[39m\u001B[38;5;241m-\u001B[39m\u001B[38;5;241m1\u001B[39m)\n\u001B[1;32m----> 2\u001B[0m \u001B[43mGrid_CBC\u001B[49m\u001B[38;5;241;43m.\u001B[39;49m\u001B[43mfit\u001B[49m\u001B[43m(\u001B[49m\u001B[43mX_train\u001B[49m\u001B[43m,\u001B[49m\u001B[43m \u001B[49m\u001B[43my_train\u001B[49m\u001B[43m)\u001B[49m\n",
      "File \u001B[1;32m~\\Documents\\ML_business\\venv\\lib\\site-packages\\sklearn\\model_selection\\_search.py:926\u001B[0m, in \u001B[0;36mBaseSearchCV.fit\u001B[1;34m(self, X, y, groups, **fit_params)\u001B[0m\n\u001B[0;32m    924\u001B[0m refit_start_time \u001B[38;5;241m=\u001B[39m time\u001B[38;5;241m.\u001B[39mtime()\n\u001B[0;32m    925\u001B[0m \u001B[38;5;28;01mif\u001B[39;00m y \u001B[38;5;129;01mis\u001B[39;00m \u001B[38;5;129;01mnot\u001B[39;00m \u001B[38;5;28;01mNone\u001B[39;00m:\n\u001B[1;32m--> 926\u001B[0m     \u001B[38;5;28mself\u001B[39m\u001B[38;5;241m.\u001B[39mbest_estimator_\u001B[38;5;241m.\u001B[39mfit(X, y, \u001B[38;5;241m*\u001B[39m\u001B[38;5;241m*\u001B[39mfit_params)\n\u001B[0;32m    927\u001B[0m \u001B[38;5;28;01melse\u001B[39;00m:\n\u001B[0;32m    928\u001B[0m     \u001B[38;5;28mself\u001B[39m\u001B[38;5;241m.\u001B[39mbest_estimator_\u001B[38;5;241m.\u001B[39mfit(X, \u001B[38;5;241m*\u001B[39m\u001B[38;5;241m*\u001B[39mfit_params)\n",
      "File \u001B[1;32m~\\Documents\\ML_business\\venv\\lib\\site-packages\\catboost\\core.py:5128\u001B[0m, in \u001B[0;36mCatBoostClassifier.fit\u001B[1;34m(self, X, y, cat_features, text_features, embedding_features, sample_weight, baseline, use_best_model, eval_set, verbose, logging_level, plot, plot_file, column_description, verbose_eval, metric_period, silent, early_stopping_rounds, save_snapshot, snapshot_file, snapshot_interval, init_model, callbacks, log_cout, log_cerr)\u001B[0m\n\u001B[0;32m   5125\u001B[0m \u001B[38;5;28;01mif\u001B[39;00m \u001B[38;5;124m'\u001B[39m\u001B[38;5;124mloss_function\u001B[39m\u001B[38;5;124m'\u001B[39m \u001B[38;5;129;01min\u001B[39;00m params:\n\u001B[0;32m   5126\u001B[0m     CatBoostClassifier\u001B[38;5;241m.\u001B[39m_check_is_compatible_loss(params[\u001B[38;5;124m'\u001B[39m\u001B[38;5;124mloss_function\u001B[39m\u001B[38;5;124m'\u001B[39m])\n\u001B[1;32m-> 5128\u001B[0m \u001B[38;5;28;43mself\u001B[39;49m\u001B[38;5;241;43m.\u001B[39;49m\u001B[43m_fit\u001B[49m\u001B[43m(\u001B[49m\u001B[43mX\u001B[49m\u001B[43m,\u001B[49m\u001B[43m \u001B[49m\u001B[43my\u001B[49m\u001B[43m,\u001B[49m\u001B[43m \u001B[49m\u001B[43mcat_features\u001B[49m\u001B[43m,\u001B[49m\u001B[43m \u001B[49m\u001B[43mtext_features\u001B[49m\u001B[43m,\u001B[49m\u001B[43m \u001B[49m\u001B[43membedding_features\u001B[49m\u001B[43m,\u001B[49m\u001B[43m \u001B[49m\u001B[38;5;28;43;01mNone\u001B[39;49;00m\u001B[43m,\u001B[49m\u001B[43m \u001B[49m\u001B[43msample_weight\u001B[49m\u001B[43m,\u001B[49m\u001B[43m \u001B[49m\u001B[38;5;28;43;01mNone\u001B[39;49;00m\u001B[43m,\u001B[49m\u001B[43m \u001B[49m\u001B[38;5;28;43;01mNone\u001B[39;49;00m\u001B[43m,\u001B[49m\u001B[43m \u001B[49m\u001B[38;5;28;43;01mNone\u001B[39;49;00m\u001B[43m,\u001B[49m\u001B[43m \u001B[49m\u001B[38;5;28;43;01mNone\u001B[39;49;00m\u001B[43m,\u001B[49m\u001B[43m \u001B[49m\u001B[43mbaseline\u001B[49m\u001B[43m,\u001B[49m\u001B[43m \u001B[49m\u001B[43muse_best_model\u001B[49m\u001B[43m,\u001B[49m\n\u001B[0;32m   5129\u001B[0m \u001B[43m          \u001B[49m\u001B[43meval_set\u001B[49m\u001B[43m,\u001B[49m\u001B[43m \u001B[49m\u001B[43mverbose\u001B[49m\u001B[43m,\u001B[49m\u001B[43m \u001B[49m\u001B[43mlogging_level\u001B[49m\u001B[43m,\u001B[49m\u001B[43m \u001B[49m\u001B[43mplot\u001B[49m\u001B[43m,\u001B[49m\u001B[43m \u001B[49m\u001B[43mplot_file\u001B[49m\u001B[43m,\u001B[49m\u001B[43m \u001B[49m\u001B[43mcolumn_description\u001B[49m\u001B[43m,\u001B[49m\u001B[43m \u001B[49m\u001B[43mverbose_eval\u001B[49m\u001B[43m,\u001B[49m\u001B[43m \u001B[49m\u001B[43mmetric_period\u001B[49m\u001B[43m,\u001B[49m\n\u001B[0;32m   5130\u001B[0m \u001B[43m          \u001B[49m\u001B[43msilent\u001B[49m\u001B[43m,\u001B[49m\u001B[43m \u001B[49m\u001B[43mearly_stopping_rounds\u001B[49m\u001B[43m,\u001B[49m\u001B[43m \u001B[49m\u001B[43msave_snapshot\u001B[49m\u001B[43m,\u001B[49m\u001B[43m \u001B[49m\u001B[43msnapshot_file\u001B[49m\u001B[43m,\u001B[49m\u001B[43m \u001B[49m\u001B[43msnapshot_interval\u001B[49m\u001B[43m,\u001B[49m\u001B[43m \u001B[49m\u001B[43minit_model\u001B[49m\u001B[43m,\u001B[49m\u001B[43m \u001B[49m\u001B[43mcallbacks\u001B[49m\u001B[43m,\u001B[49m\u001B[43m \u001B[49m\u001B[43mlog_cout\u001B[49m\u001B[43m,\u001B[49m\u001B[43m \u001B[49m\u001B[43mlog_cerr\u001B[49m\u001B[43m)\u001B[49m\n\u001B[0;32m   5131\u001B[0m \u001B[38;5;28;01mreturn\u001B[39;00m \u001B[38;5;28mself\u001B[39m\n",
      "File \u001B[1;32m~\\Documents\\ML_business\\venv\\lib\\site-packages\\catboost\\core.py:2339\u001B[0m, in \u001B[0;36mCatBoost._fit\u001B[1;34m(self, X, y, cat_features, text_features, embedding_features, pairs, sample_weight, group_id, group_weight, subgroup_id, pairs_weight, baseline, use_best_model, eval_set, verbose, logging_level, plot, plot_file, column_description, verbose_eval, metric_period, silent, early_stopping_rounds, save_snapshot, snapshot_file, snapshot_interval, init_model, callbacks, log_cout, log_cerr)\u001B[0m\n\u001B[0;32m   2336\u001B[0m \u001B[38;5;28;01mif\u001B[39;00m y \u001B[38;5;129;01mis\u001B[39;00m \u001B[38;5;28;01mNone\u001B[39;00m \u001B[38;5;129;01mand\u001B[39;00m \u001B[38;5;129;01mnot\u001B[39;00m \u001B[38;5;28misinstance\u001B[39m(X, PATH_TYPES \u001B[38;5;241m+\u001B[39m (Pool,)):\n\u001B[0;32m   2337\u001B[0m     \u001B[38;5;28;01mraise\u001B[39;00m CatBoostError(\u001B[38;5;124m\"\u001B[39m\u001B[38;5;124my may be None only when X is an instance of catboost.Pool or string\u001B[39m\u001B[38;5;124m\"\u001B[39m)\n\u001B[1;32m-> 2339\u001B[0m train_params \u001B[38;5;241m=\u001B[39m \u001B[38;5;28;43mself\u001B[39;49m\u001B[38;5;241;43m.\u001B[39;49m\u001B[43m_prepare_train_params\u001B[49m\u001B[43m(\u001B[49m\n\u001B[0;32m   2340\u001B[0m \u001B[43m    \u001B[49m\u001B[43mX\u001B[49m\u001B[38;5;241;43m=\u001B[39;49m\u001B[43mX\u001B[49m\u001B[43m,\u001B[49m\u001B[43m \u001B[49m\u001B[43my\u001B[49m\u001B[38;5;241;43m=\u001B[39;49m\u001B[43my\u001B[49m\u001B[43m,\u001B[49m\u001B[43m \u001B[49m\u001B[43mcat_features\u001B[49m\u001B[38;5;241;43m=\u001B[39;49m\u001B[43mcat_features\u001B[49m\u001B[43m,\u001B[49m\u001B[43m \u001B[49m\u001B[43mtext_features\u001B[49m\u001B[38;5;241;43m=\u001B[39;49m\u001B[43mtext_features\u001B[49m\u001B[43m,\u001B[49m\u001B[43m \u001B[49m\u001B[43membedding_features\u001B[49m\u001B[38;5;241;43m=\u001B[39;49m\u001B[43membedding_features\u001B[49m\u001B[43m,\u001B[49m\n\u001B[0;32m   2341\u001B[0m \u001B[43m    \u001B[49m\u001B[43mpairs\u001B[49m\u001B[38;5;241;43m=\u001B[39;49m\u001B[43mpairs\u001B[49m\u001B[43m,\u001B[49m\u001B[43m \u001B[49m\u001B[43msample_weight\u001B[49m\u001B[38;5;241;43m=\u001B[39;49m\u001B[43msample_weight\u001B[49m\u001B[43m,\u001B[49m\u001B[43m \u001B[49m\u001B[43mgroup_id\u001B[49m\u001B[38;5;241;43m=\u001B[39;49m\u001B[43mgroup_id\u001B[49m\u001B[43m,\u001B[49m\u001B[43m \u001B[49m\u001B[43mgroup_weight\u001B[49m\u001B[38;5;241;43m=\u001B[39;49m\u001B[43mgroup_weight\u001B[49m\u001B[43m,\u001B[49m\n\u001B[0;32m   2342\u001B[0m \u001B[43m    \u001B[49m\u001B[43msubgroup_id\u001B[49m\u001B[38;5;241;43m=\u001B[39;49m\u001B[43msubgroup_id\u001B[49m\u001B[43m,\u001B[49m\u001B[43m \u001B[49m\u001B[43mpairs_weight\u001B[49m\u001B[38;5;241;43m=\u001B[39;49m\u001B[43mpairs_weight\u001B[49m\u001B[43m,\u001B[49m\u001B[43m \u001B[49m\u001B[43mbaseline\u001B[49m\u001B[38;5;241;43m=\u001B[39;49m\u001B[43mbaseline\u001B[49m\u001B[43m,\u001B[49m\u001B[43m \u001B[49m\u001B[43muse_best_model\u001B[49m\u001B[38;5;241;43m=\u001B[39;49m\u001B[43muse_best_model\u001B[49m\u001B[43m,\u001B[49m\n\u001B[0;32m   2343\u001B[0m \u001B[43m    \u001B[49m\u001B[43meval_set\u001B[49m\u001B[38;5;241;43m=\u001B[39;49m\u001B[43meval_set\u001B[49m\u001B[43m,\u001B[49m\u001B[43m \u001B[49m\u001B[43mverbose\u001B[49m\u001B[38;5;241;43m=\u001B[39;49m\u001B[43mverbose\u001B[49m\u001B[43m,\u001B[49m\u001B[43m \u001B[49m\u001B[43mlogging_level\u001B[49m\u001B[38;5;241;43m=\u001B[39;49m\u001B[43mlogging_level\u001B[49m\u001B[43m,\u001B[49m\u001B[43m \u001B[49m\u001B[43mplot\u001B[49m\u001B[38;5;241;43m=\u001B[39;49m\u001B[43mplot\u001B[49m\u001B[43m,\u001B[49m\u001B[43m \u001B[49m\u001B[43mplot_file\u001B[49m\u001B[38;5;241;43m=\u001B[39;49m\u001B[43mplot_file\u001B[49m\u001B[43m,\u001B[49m\n\u001B[0;32m   2344\u001B[0m \u001B[43m    \u001B[49m\u001B[43mcolumn_description\u001B[49m\u001B[38;5;241;43m=\u001B[39;49m\u001B[43mcolumn_description\u001B[49m\u001B[43m,\u001B[49m\u001B[43m \u001B[49m\u001B[43mverbose_eval\u001B[49m\u001B[38;5;241;43m=\u001B[39;49m\u001B[43mverbose_eval\u001B[49m\u001B[43m,\u001B[49m\u001B[43m \u001B[49m\u001B[43mmetric_period\u001B[49m\u001B[38;5;241;43m=\u001B[39;49m\u001B[43mmetric_period\u001B[49m\u001B[43m,\u001B[49m\n\u001B[0;32m   2345\u001B[0m \u001B[43m    \u001B[49m\u001B[43msilent\u001B[49m\u001B[38;5;241;43m=\u001B[39;49m\u001B[43msilent\u001B[49m\u001B[43m,\u001B[49m\u001B[43m \u001B[49m\u001B[43mearly_stopping_rounds\u001B[49m\u001B[38;5;241;43m=\u001B[39;49m\u001B[43mearly_stopping_rounds\u001B[49m\u001B[43m,\u001B[49m\u001B[43m \u001B[49m\u001B[43msave_snapshot\u001B[49m\u001B[38;5;241;43m=\u001B[39;49m\u001B[43msave_snapshot\u001B[49m\u001B[43m,\u001B[49m\n\u001B[0;32m   2346\u001B[0m \u001B[43m    \u001B[49m\u001B[43msnapshot_file\u001B[49m\u001B[38;5;241;43m=\u001B[39;49m\u001B[43msnapshot_file\u001B[49m\u001B[43m,\u001B[49m\u001B[43m \u001B[49m\u001B[43msnapshot_interval\u001B[49m\u001B[38;5;241;43m=\u001B[39;49m\u001B[43msnapshot_interval\u001B[49m\u001B[43m,\u001B[49m\u001B[43m \u001B[49m\u001B[43minit_model\u001B[49m\u001B[38;5;241;43m=\u001B[39;49m\u001B[43minit_model\u001B[49m\u001B[43m,\u001B[49m\n\u001B[0;32m   2347\u001B[0m \u001B[43m    \u001B[49m\u001B[43mcallbacks\u001B[49m\u001B[38;5;241;43m=\u001B[39;49m\u001B[43mcallbacks\u001B[49m\n\u001B[0;32m   2348\u001B[0m \u001B[43m\u001B[49m\u001B[43m)\u001B[49m\n\u001B[0;32m   2349\u001B[0m params \u001B[38;5;241m=\u001B[39m train_params[\u001B[38;5;124m\"\u001B[39m\u001B[38;5;124mparams\u001B[39m\u001B[38;5;124m\"\u001B[39m]\n\u001B[0;32m   2350\u001B[0m train_pool \u001B[38;5;241m=\u001B[39m train_params[\u001B[38;5;124m\"\u001B[39m\u001B[38;5;124mtrain_pool\u001B[39m\u001B[38;5;124m\"\u001B[39m]\n",
      "File \u001B[1;32m~\\Documents\\ML_business\\venv\\lib\\site-packages\\catboost\\core.py:2220\u001B[0m, in \u001B[0;36mCatBoost._prepare_train_params\u001B[1;34m(self, X, y, cat_features, text_features, embedding_features, pairs, sample_weight, group_id, group_weight, subgroup_id, pairs_weight, baseline, use_best_model, eval_set, verbose, logging_level, plot, plot_file, column_description, verbose_eval, metric_period, silent, early_stopping_rounds, save_snapshot, snapshot_file, snapshot_interval, init_model, callbacks)\u001B[0m\n\u001B[0;32m   2217\u001B[0m text_features \u001B[38;5;241m=\u001B[39m _process_feature_indices(text_features, X, params, \u001B[38;5;124m'\u001B[39m\u001B[38;5;124mtext_features\u001B[39m\u001B[38;5;124m'\u001B[39m)\n\u001B[0;32m   2218\u001B[0m embedding_features \u001B[38;5;241m=\u001B[39m _process_feature_indices(embedding_features, X, params, \u001B[38;5;124m'\u001B[39m\u001B[38;5;124membedding_features\u001B[39m\u001B[38;5;124m'\u001B[39m)\n\u001B[1;32m-> 2220\u001B[0m train_pool \u001B[38;5;241m=\u001B[39m \u001B[43m_build_train_pool\u001B[49m\u001B[43m(\u001B[49m\u001B[43mX\u001B[49m\u001B[43m,\u001B[49m\u001B[43m \u001B[49m\u001B[43my\u001B[49m\u001B[43m,\u001B[49m\u001B[43m \u001B[49m\u001B[43mcat_features\u001B[49m\u001B[43m,\u001B[49m\u001B[43m \u001B[49m\u001B[43mtext_features\u001B[49m\u001B[43m,\u001B[49m\u001B[43m \u001B[49m\u001B[43membedding_features\u001B[49m\u001B[43m,\u001B[49m\u001B[43m \u001B[49m\u001B[43mpairs\u001B[49m\u001B[43m,\u001B[49m\n\u001B[0;32m   2221\u001B[0m \u001B[43m                               \u001B[49m\u001B[43msample_weight\u001B[49m\u001B[43m,\u001B[49m\u001B[43m \u001B[49m\u001B[43mgroup_id\u001B[49m\u001B[43m,\u001B[49m\u001B[43m \u001B[49m\u001B[43mgroup_weight\u001B[49m\u001B[43m,\u001B[49m\u001B[43m \u001B[49m\u001B[43msubgroup_id\u001B[49m\u001B[43m,\u001B[49m\u001B[43m \u001B[49m\u001B[43mpairs_weight\u001B[49m\u001B[43m,\u001B[49m\n\u001B[0;32m   2222\u001B[0m \u001B[43m                               \u001B[49m\u001B[43mbaseline\u001B[49m\u001B[43m,\u001B[49m\u001B[43m \u001B[49m\u001B[43mcolumn_description\u001B[49m\u001B[43m)\u001B[49m\n\u001B[0;32m   2223\u001B[0m \u001B[38;5;28;01mif\u001B[39;00m train_pool\u001B[38;5;241m.\u001B[39mis_empty_:\n\u001B[0;32m   2224\u001B[0m     \u001B[38;5;28;01mraise\u001B[39;00m CatBoostError(\u001B[38;5;124m\"\u001B[39m\u001B[38;5;124mX is empty.\u001B[39m\u001B[38;5;124m\"\u001B[39m)\n",
      "File \u001B[1;32m~\\Documents\\ML_business\\venv\\lib\\site-packages\\catboost\\core.py:1438\u001B[0m, in \u001B[0;36m_build_train_pool\u001B[1;34m(X, y, cat_features, text_features, embedding_features, pairs, sample_weight, group_id, group_weight, subgroup_id, pairs_weight, baseline, column_description)\u001B[0m\n\u001B[0;32m   1436\u001B[0m     \u001B[38;5;28;01mif\u001B[39;00m y \u001B[38;5;129;01mis\u001B[39;00m \u001B[38;5;28;01mNone\u001B[39;00m:\n\u001B[0;32m   1437\u001B[0m         \u001B[38;5;28;01mraise\u001B[39;00m CatBoostError(\u001B[38;5;124m\"\u001B[39m\u001B[38;5;124my has not initialized in fit(): X is not catboost.Pool object, y must be not None in fit().\u001B[39m\u001B[38;5;124m\"\u001B[39m)\n\u001B[1;32m-> 1438\u001B[0m     train_pool \u001B[38;5;241m=\u001B[39m \u001B[43mPool\u001B[49m\u001B[43m(\u001B[49m\u001B[43mX\u001B[49m\u001B[43m,\u001B[49m\u001B[43m \u001B[49m\u001B[43my\u001B[49m\u001B[43m,\u001B[49m\u001B[43m \u001B[49m\u001B[43mcat_features\u001B[49m\u001B[38;5;241;43m=\u001B[39;49m\u001B[43mcat_features\u001B[49m\u001B[43m,\u001B[49m\u001B[43m \u001B[49m\u001B[43mtext_features\u001B[49m\u001B[38;5;241;43m=\u001B[39;49m\u001B[43mtext_features\u001B[49m\u001B[43m,\u001B[49m\u001B[43m \u001B[49m\u001B[43membedding_features\u001B[49m\u001B[38;5;241;43m=\u001B[39;49m\u001B[43membedding_features\u001B[49m\u001B[43m,\u001B[49m\u001B[43m \u001B[49m\u001B[43mpairs\u001B[49m\u001B[38;5;241;43m=\u001B[39;49m\u001B[43mpairs\u001B[49m\u001B[43m,\u001B[49m\u001B[43m \u001B[49m\u001B[43mweight\u001B[49m\u001B[38;5;241;43m=\u001B[39;49m\u001B[43msample_weight\u001B[49m\u001B[43m,\u001B[49m\u001B[43m \u001B[49m\u001B[43mgroup_id\u001B[49m\u001B[38;5;241;43m=\u001B[39;49m\u001B[43mgroup_id\u001B[49m\u001B[43m,\u001B[49m\n\u001B[0;32m   1439\u001B[0m \u001B[43m                      \u001B[49m\u001B[43mgroup_weight\u001B[49m\u001B[38;5;241;43m=\u001B[39;49m\u001B[43mgroup_weight\u001B[49m\u001B[43m,\u001B[49m\u001B[43m \u001B[49m\u001B[43msubgroup_id\u001B[49m\u001B[38;5;241;43m=\u001B[39;49m\u001B[43msubgroup_id\u001B[49m\u001B[43m,\u001B[49m\u001B[43m \u001B[49m\u001B[43mpairs_weight\u001B[49m\u001B[38;5;241;43m=\u001B[39;49m\u001B[43mpairs_weight\u001B[49m\u001B[43m,\u001B[49m\u001B[43m \u001B[49m\u001B[43mbaseline\u001B[49m\u001B[38;5;241;43m=\u001B[39;49m\u001B[43mbaseline\u001B[49m\u001B[43m)\u001B[49m\n\u001B[0;32m   1440\u001B[0m \u001B[38;5;28;01mreturn\u001B[39;00m train_pool\n",
      "File \u001B[1;32m~\\Documents\\ML_business\\venv\\lib\\site-packages\\catboost\\core.py:792\u001B[0m, in \u001B[0;36mPool.__init__\u001B[1;34m(self, data, label, cat_features, text_features, embedding_features, embedding_features_data, column_description, pairs, delimiter, has_header, ignore_csv_quoting, weight, group_id, group_weight, subgroup_id, pairs_weight, baseline, timestamp, feature_names, feature_tags, thread_count, log_cout, log_cerr)\u001B[0m\n\u001B[0;32m    786\u001B[0m         \u001B[38;5;28;01mif\u001B[39;00m \u001B[38;5;28misinstance\u001B[39m(feature_names, PATH_TYPES):\n\u001B[0;32m    787\u001B[0m             \u001B[38;5;28;01mraise\u001B[39;00m CatBoostError(\n\u001B[0;32m    788\u001B[0m                 \u001B[38;5;124m\"\u001B[39m\u001B[38;5;124mfeature_names must be None or have non-string type when the pool is created from \u001B[39m\u001B[38;5;124m\"\u001B[39m\n\u001B[0;32m    789\u001B[0m                 \u001B[38;5;124m\"\u001B[39m\u001B[38;5;124mpython objects.\u001B[39m\u001B[38;5;124m\"\u001B[39m\n\u001B[0;32m    790\u001B[0m             )\n\u001B[1;32m--> 792\u001B[0m         \u001B[38;5;28;43mself\u001B[39;49m\u001B[38;5;241;43m.\u001B[39;49m\u001B[43m_init\u001B[49m\u001B[43m(\u001B[49m\u001B[43mdata\u001B[49m\u001B[43m,\u001B[49m\u001B[43m \u001B[49m\u001B[43mlabel\u001B[49m\u001B[43m,\u001B[49m\u001B[43m \u001B[49m\u001B[43mcat_features\u001B[49m\u001B[43m,\u001B[49m\u001B[43m \u001B[49m\u001B[43mtext_features\u001B[49m\u001B[43m,\u001B[49m\u001B[43m \u001B[49m\u001B[43membedding_features\u001B[49m\u001B[43m,\u001B[49m\u001B[43m \u001B[49m\u001B[43membedding_features_data\u001B[49m\u001B[43m,\u001B[49m\u001B[43m \u001B[49m\u001B[43mpairs\u001B[49m\u001B[43m,\u001B[49m\u001B[43m \u001B[49m\u001B[43mweight\u001B[49m\u001B[43m,\u001B[49m\n\u001B[0;32m    793\u001B[0m \u001B[43m                   \u001B[49m\u001B[43mgroup_id\u001B[49m\u001B[43m,\u001B[49m\u001B[43m \u001B[49m\u001B[43mgroup_weight\u001B[49m\u001B[43m,\u001B[49m\u001B[43m \u001B[49m\u001B[43msubgroup_id\u001B[49m\u001B[43m,\u001B[49m\u001B[43m \u001B[49m\u001B[43mpairs_weight\u001B[49m\u001B[43m,\u001B[49m\u001B[43m \u001B[49m\u001B[43mbaseline\u001B[49m\u001B[43m,\u001B[49m\u001B[43m \u001B[49m\u001B[43mtimestamp\u001B[49m\u001B[43m,\u001B[49m\u001B[43m \u001B[49m\u001B[43mfeature_names\u001B[49m\u001B[43m,\u001B[49m\u001B[43m \u001B[49m\u001B[43mfeature_tags\u001B[49m\u001B[43m,\u001B[49m\u001B[43m \u001B[49m\u001B[43mthread_count\u001B[49m\u001B[43m)\u001B[49m\n\u001B[0;32m    794\u001B[0m \u001B[38;5;28msuper\u001B[39m(Pool, \u001B[38;5;28mself\u001B[39m)\u001B[38;5;241m.\u001B[39m\u001B[38;5;21m__init__\u001B[39m()\n",
      "File \u001B[1;32m~\\Documents\\ML_business\\venv\\lib\\site-packages\\catboost\\core.py:1419\u001B[0m, in \u001B[0;36mPool._init\u001B[1;34m(self, data, label, cat_features, text_features, embedding_features, embedding_features_data, pairs, weight, group_id, group_weight, subgroup_id, pairs_weight, baseline, timestamp, feature_names, feature_tags, thread_count)\u001B[0m\n\u001B[0;32m   1417\u001B[0m \u001B[38;5;28;01mif\u001B[39;00m feature_tags \u001B[38;5;129;01mis\u001B[39;00m \u001B[38;5;129;01mnot\u001B[39;00m \u001B[38;5;28;01mNone\u001B[39;00m:\n\u001B[0;32m   1418\u001B[0m     feature_tags \u001B[38;5;241m=\u001B[39m \u001B[38;5;28mself\u001B[39m\u001B[38;5;241m.\u001B[39m_check_transform_tags(feature_tags, feature_names)\n\u001B[1;32m-> 1419\u001B[0m \u001B[38;5;28;43mself\u001B[39;49m\u001B[38;5;241;43m.\u001B[39;49m\u001B[43m_init_pool\u001B[49m\u001B[43m(\u001B[49m\u001B[43mdata\u001B[49m\u001B[43m,\u001B[49m\u001B[43m \u001B[49m\u001B[43mlabel\u001B[49m\u001B[43m,\u001B[49m\u001B[43m \u001B[49m\u001B[43mcat_features\u001B[49m\u001B[43m,\u001B[49m\u001B[43m \u001B[49m\u001B[43mtext_features\u001B[49m\u001B[43m,\u001B[49m\u001B[43m \u001B[49m\u001B[43membedding_features\u001B[49m\u001B[43m,\u001B[49m\u001B[43m \u001B[49m\u001B[43membedding_features_data\u001B[49m\u001B[43m,\u001B[49m\u001B[43m \u001B[49m\u001B[43mpairs\u001B[49m\u001B[43m,\u001B[49m\u001B[43m \u001B[49m\u001B[43mweight\u001B[49m\u001B[43m,\u001B[49m\n\u001B[0;32m   1420\u001B[0m \u001B[43m                \u001B[49m\u001B[43mgroup_id\u001B[49m\u001B[43m,\u001B[49m\u001B[43m \u001B[49m\u001B[43mgroup_weight\u001B[49m\u001B[43m,\u001B[49m\u001B[43m \u001B[49m\u001B[43msubgroup_id\u001B[49m\u001B[43m,\u001B[49m\u001B[43m \u001B[49m\u001B[43mpairs_weight\u001B[49m\u001B[43m,\u001B[49m\u001B[43m \u001B[49m\u001B[43mbaseline\u001B[49m\u001B[43m,\u001B[49m\u001B[43m \u001B[49m\u001B[43mtimestamp\u001B[49m\u001B[43m,\u001B[49m\u001B[43m \u001B[49m\u001B[43mfeature_names\u001B[49m\u001B[43m,\u001B[49m\u001B[43m \u001B[49m\u001B[43mfeature_tags\u001B[49m\u001B[43m,\u001B[49m\u001B[43m \u001B[49m\u001B[43mthread_count\u001B[49m\u001B[43m)\u001B[49m\n",
      "File \u001B[1;32m_catboost.pyx:3954\u001B[0m, in \u001B[0;36m_catboost._PoolBase._init_pool\u001B[1;34m()\u001B[0m\n",
      "File \u001B[1;32m_catboost.pyx:4004\u001B[0m, in \u001B[0;36m_catboost._PoolBase._init_pool\u001B[1;34m()\u001B[0m\n",
      "File \u001B[1;32m_catboost.pyx:3820\u001B[0m, in \u001B[0;36m_catboost._PoolBase._init_features_order_layout_pool\u001B[1;34m()\u001B[0m\n",
      "File \u001B[1;32m_catboost.pyx:2786\u001B[0m, in \u001B[0;36m_catboost._set_features_order_data_pd_data_frame\u001B[1;34m()\u001B[0m\n",
      "File \u001B[1;32m_catboost.pyx:2327\u001B[0m, in \u001B[0;36m_catboost.create_num_factor_data\u001B[1;34m()\u001B[0m\n",
      "File \u001B[1;32m_catboost.pyx:2288\u001B[0m, in \u001B[0;36m_catboost.get_float_feature\u001B[1;34m()\u001B[0m\n",
      "\u001B[1;31mCatBoostError\u001B[0m: Bad value for num_feature[non_default_doc_idx=0,feature_idx=2]=\"Daniels\": Cannot convert 'b'Daniels'' to float"
     ]
    }
   ],
   "source": [
    "Grid_CBC = GridSearchCV(estimator=CBC, param_grid = parameters, cv = 2, n_jobs=-1)\n",
    "Grid_CBC.fit(X_train, y_train)"
   ],
   "metadata": {
    "collapsed": false,
    "pycharm": {
     "name": "#%%\n"
    }
   }
  },
  {
   "cell_type": "code",
   "execution_count": null,
   "outputs": [],
   "source": [],
   "metadata": {
    "collapsed": false,
    "pycharm": {
     "name": "#%%\n"
    }
   }
  }
 ],
 "metadata": {
  "kernelspec": {
   "display_name": "Python 3",
   "language": "python",
   "name": "python3"
  },
  "language_info": {
   "codemirror_mode": {
    "name": "ipython",
    "version": 2
   },
   "file_extension": ".py",
   "mimetype": "text/x-python",
   "name": "python",
   "nbconvert_exporter": "python",
   "pygments_lexer": "ipython2",
   "version": "2.7.6"
  }
 },
 "nbformat": 4,
 "nbformat_minor": 0
}